{
 "cells": [
  {
   "cell_type": "markdown",
   "id": "1ad7eef2",
   "metadata": {},
   "source": [
    "<h2 style = \"color : Brown\"> Case Study - Lending Case Study </h2>"
   ]
  },
  {
   "cell_type": "code",
   "execution_count": 1,
   "id": "5181f3cc",
   "metadata": {},
   "outputs": [],
   "source": [
    "# Import the libraries\n",
    "from numpy import * # for scientific computing\n",
    "from pandas import * # for data analysis\n",
    "from matplotlib.pyplot import * # for data visualization and graphical plotting\n",
    "import seaborn as sb_plt"
   ]
  },
  {
   "cell_type": "markdown",
   "id": "a79a6cc8",
   "metadata": {},
   "source": [
    "<h4 style = \"color : Black\"> EDA Step 1: Data Sourcing </h4>\n",
    "Read complete loan data for all loans issued through the time period 2007 t0 2011."
   ]
  },
  {
   "cell_type": "code",
   "execution_count": 2,
   "id": "dfbd2a8b",
   "metadata": {},
   "outputs": [
    {
     "data": {
      "text/html": [
       "<div>\n",
       "<style scoped>\n",
       "    .dataframe tbody tr th:only-of-type {\n",
       "        vertical-align: middle;\n",
       "    }\n",
       "\n",
       "    .dataframe tbody tr th {\n",
       "        vertical-align: top;\n",
       "    }\n",
       "\n",
       "    .dataframe thead th {\n",
       "        text-align: right;\n",
       "    }\n",
       "</style>\n",
       "<table border=\"1\" class=\"dataframe\">\n",
       "  <thead>\n",
       "    <tr style=\"text-align: right;\">\n",
       "      <th></th>\n",
       "      <th>id</th>\n",
       "      <th>member_id</th>\n",
       "      <th>loan_amnt</th>\n",
       "      <th>funded_amnt</th>\n",
       "      <th>funded_amnt_inv</th>\n",
       "      <th>term</th>\n",
       "      <th>int_rate</th>\n",
       "      <th>installment</th>\n",
       "      <th>grade</th>\n",
       "      <th>sub_grade</th>\n",
       "      <th>...</th>\n",
       "      <th>num_tl_90g_dpd_24m</th>\n",
       "      <th>num_tl_op_past_12m</th>\n",
       "      <th>pct_tl_nvr_dlq</th>\n",
       "      <th>percent_bc_gt_75</th>\n",
       "      <th>pub_rec_bankruptcies</th>\n",
       "      <th>tax_liens</th>\n",
       "      <th>tot_hi_cred_lim</th>\n",
       "      <th>total_bal_ex_mort</th>\n",
       "      <th>total_bc_limit</th>\n",
       "      <th>total_il_high_credit_limit</th>\n",
       "    </tr>\n",
       "  </thead>\n",
       "  <tbody>\n",
       "    <tr>\n",
       "      <th>0</th>\n",
       "      <td>1077501</td>\n",
       "      <td>1296599</td>\n",
       "      <td>5000</td>\n",
       "      <td>5000</td>\n",
       "      <td>4975.0</td>\n",
       "      <td>36 months</td>\n",
       "      <td>10.65%</td>\n",
       "      <td>162.87</td>\n",
       "      <td>B</td>\n",
       "      <td>B2</td>\n",
       "      <td>...</td>\n",
       "      <td>NaN</td>\n",
       "      <td>NaN</td>\n",
       "      <td>NaN</td>\n",
       "      <td>NaN</td>\n",
       "      <td>0.0</td>\n",
       "      <td>0.0</td>\n",
       "      <td>NaN</td>\n",
       "      <td>NaN</td>\n",
       "      <td>NaN</td>\n",
       "      <td>NaN</td>\n",
       "    </tr>\n",
       "    <tr>\n",
       "      <th>1</th>\n",
       "      <td>1077430</td>\n",
       "      <td>1314167</td>\n",
       "      <td>2500</td>\n",
       "      <td>2500</td>\n",
       "      <td>2500.0</td>\n",
       "      <td>60 months</td>\n",
       "      <td>15.27%</td>\n",
       "      <td>59.83</td>\n",
       "      <td>C</td>\n",
       "      <td>C4</td>\n",
       "      <td>...</td>\n",
       "      <td>NaN</td>\n",
       "      <td>NaN</td>\n",
       "      <td>NaN</td>\n",
       "      <td>NaN</td>\n",
       "      <td>0.0</td>\n",
       "      <td>0.0</td>\n",
       "      <td>NaN</td>\n",
       "      <td>NaN</td>\n",
       "      <td>NaN</td>\n",
       "      <td>NaN</td>\n",
       "    </tr>\n",
       "    <tr>\n",
       "      <th>2</th>\n",
       "      <td>1077175</td>\n",
       "      <td>1313524</td>\n",
       "      <td>2400</td>\n",
       "      <td>2400</td>\n",
       "      <td>2400.0</td>\n",
       "      <td>36 months</td>\n",
       "      <td>15.96%</td>\n",
       "      <td>84.33</td>\n",
       "      <td>C</td>\n",
       "      <td>C5</td>\n",
       "      <td>...</td>\n",
       "      <td>NaN</td>\n",
       "      <td>NaN</td>\n",
       "      <td>NaN</td>\n",
       "      <td>NaN</td>\n",
       "      <td>0.0</td>\n",
       "      <td>0.0</td>\n",
       "      <td>NaN</td>\n",
       "      <td>NaN</td>\n",
       "      <td>NaN</td>\n",
       "      <td>NaN</td>\n",
       "    </tr>\n",
       "    <tr>\n",
       "      <th>3</th>\n",
       "      <td>1076863</td>\n",
       "      <td>1277178</td>\n",
       "      <td>10000</td>\n",
       "      <td>10000</td>\n",
       "      <td>10000.0</td>\n",
       "      <td>36 months</td>\n",
       "      <td>13.49%</td>\n",
       "      <td>339.31</td>\n",
       "      <td>C</td>\n",
       "      <td>C1</td>\n",
       "      <td>...</td>\n",
       "      <td>NaN</td>\n",
       "      <td>NaN</td>\n",
       "      <td>NaN</td>\n",
       "      <td>NaN</td>\n",
       "      <td>0.0</td>\n",
       "      <td>0.0</td>\n",
       "      <td>NaN</td>\n",
       "      <td>NaN</td>\n",
       "      <td>NaN</td>\n",
       "      <td>NaN</td>\n",
       "    </tr>\n",
       "    <tr>\n",
       "      <th>4</th>\n",
       "      <td>1075358</td>\n",
       "      <td>1311748</td>\n",
       "      <td>3000</td>\n",
       "      <td>3000</td>\n",
       "      <td>3000.0</td>\n",
       "      <td>60 months</td>\n",
       "      <td>12.69%</td>\n",
       "      <td>67.79</td>\n",
       "      <td>B</td>\n",
       "      <td>B5</td>\n",
       "      <td>...</td>\n",
       "      <td>NaN</td>\n",
       "      <td>NaN</td>\n",
       "      <td>NaN</td>\n",
       "      <td>NaN</td>\n",
       "      <td>0.0</td>\n",
       "      <td>0.0</td>\n",
       "      <td>NaN</td>\n",
       "      <td>NaN</td>\n",
       "      <td>NaN</td>\n",
       "      <td>NaN</td>\n",
       "    </tr>\n",
       "  </tbody>\n",
       "</table>\n",
       "<p>5 rows × 111 columns</p>\n",
       "</div>"
      ],
      "text/plain": [
       "        id  member_id  loan_amnt  funded_amnt  funded_amnt_inv        term  \\\n",
       "0  1077501    1296599       5000         5000           4975.0   36 months   \n",
       "1  1077430    1314167       2500         2500           2500.0   60 months   \n",
       "2  1077175    1313524       2400         2400           2400.0   36 months   \n",
       "3  1076863    1277178      10000        10000          10000.0   36 months   \n",
       "4  1075358    1311748       3000         3000           3000.0   60 months   \n",
       "\n",
       "  int_rate  installment grade sub_grade  ... num_tl_90g_dpd_24m  \\\n",
       "0   10.65%       162.87     B        B2  ...                NaN   \n",
       "1   15.27%        59.83     C        C4  ...                NaN   \n",
       "2   15.96%        84.33     C        C5  ...                NaN   \n",
       "3   13.49%       339.31     C        C1  ...                NaN   \n",
       "4   12.69%        67.79     B        B5  ...                NaN   \n",
       "\n",
       "  num_tl_op_past_12m pct_tl_nvr_dlq  percent_bc_gt_75 pub_rec_bankruptcies  \\\n",
       "0                NaN            NaN               NaN                  0.0   \n",
       "1                NaN            NaN               NaN                  0.0   \n",
       "2                NaN            NaN               NaN                  0.0   \n",
       "3                NaN            NaN               NaN                  0.0   \n",
       "4                NaN            NaN               NaN                  0.0   \n",
       "\n",
       "  tax_liens tot_hi_cred_lim total_bal_ex_mort total_bc_limit  \\\n",
       "0       0.0             NaN               NaN            NaN   \n",
       "1       0.0             NaN               NaN            NaN   \n",
       "2       0.0             NaN               NaN            NaN   \n",
       "3       0.0             NaN               NaN            NaN   \n",
       "4       0.0             NaN               NaN            NaN   \n",
       "\n",
       "  total_il_high_credit_limit  \n",
       "0                        NaN  \n",
       "1                        NaN  \n",
       "2                        NaN  \n",
       "3                        NaN  \n",
       "4                        NaN  \n",
       "\n",
       "[5 rows x 111 columns]"
      ]
     },
     "execution_count": 2,
     "metadata": {},
     "output_type": "execute_result"
    }
   ],
   "source": [
    "# Read the data and print the loan data\n",
    "df_loan_data = read_csv('loan\\loan.csv', encoding = \"ISO-8859-1\", low_memory=False)\n",
    "\n",
    "# Display Dataframe\n",
    "df_loan_data.head()"
   ]
  },
  {
   "cell_type": "code",
   "execution_count": 3,
   "id": "487481d0",
   "metadata": {
    "scrolled": false
   },
   "outputs": [
    {
     "data": {
      "text/html": [
       "<div>\n",
       "<style scoped>\n",
       "    .dataframe tbody tr th:only-of-type {\n",
       "        vertical-align: middle;\n",
       "    }\n",
       "\n",
       "    .dataframe tbody tr th {\n",
       "        vertical-align: top;\n",
       "    }\n",
       "\n",
       "    .dataframe thead th {\n",
       "        text-align: right;\n",
       "    }\n",
       "</style>\n",
       "<table border=\"1\" class=\"dataframe\">\n",
       "  <thead>\n",
       "    <tr style=\"text-align: right;\">\n",
       "      <th></th>\n",
       "      <th>id</th>\n",
       "      <th>member_id</th>\n",
       "      <th>loan_amnt</th>\n",
       "      <th>funded_amnt</th>\n",
       "      <th>funded_amnt_inv</th>\n",
       "      <th>installment</th>\n",
       "      <th>annual_inc</th>\n",
       "      <th>dti</th>\n",
       "      <th>delinq_2yrs</th>\n",
       "      <th>inq_last_6mths</th>\n",
       "      <th>...</th>\n",
       "      <th>num_tl_90g_dpd_24m</th>\n",
       "      <th>num_tl_op_past_12m</th>\n",
       "      <th>pct_tl_nvr_dlq</th>\n",
       "      <th>percent_bc_gt_75</th>\n",
       "      <th>pub_rec_bankruptcies</th>\n",
       "      <th>tax_liens</th>\n",
       "      <th>tot_hi_cred_lim</th>\n",
       "      <th>total_bal_ex_mort</th>\n",
       "      <th>total_bc_limit</th>\n",
       "      <th>total_il_high_credit_limit</th>\n",
       "    </tr>\n",
       "  </thead>\n",
       "  <tbody>\n",
       "    <tr>\n",
       "      <th>count</th>\n",
       "      <td>3.971700e+04</td>\n",
       "      <td>3.971700e+04</td>\n",
       "      <td>39717.000000</td>\n",
       "      <td>39717.000000</td>\n",
       "      <td>39717.000000</td>\n",
       "      <td>39717.000000</td>\n",
       "      <td>3.971700e+04</td>\n",
       "      <td>39717.000000</td>\n",
       "      <td>39717.000000</td>\n",
       "      <td>39717.000000</td>\n",
       "      <td>...</td>\n",
       "      <td>0.0</td>\n",
       "      <td>0.0</td>\n",
       "      <td>0.0</td>\n",
       "      <td>0.0</td>\n",
       "      <td>39020.000000</td>\n",
       "      <td>39678.0</td>\n",
       "      <td>0.0</td>\n",
       "      <td>0.0</td>\n",
       "      <td>0.0</td>\n",
       "      <td>0.0</td>\n",
       "    </tr>\n",
       "    <tr>\n",
       "      <th>mean</th>\n",
       "      <td>6.831319e+05</td>\n",
       "      <td>8.504636e+05</td>\n",
       "      <td>11219.443815</td>\n",
       "      <td>10947.713196</td>\n",
       "      <td>10397.448868</td>\n",
       "      <td>324.561922</td>\n",
       "      <td>6.896893e+04</td>\n",
       "      <td>13.315130</td>\n",
       "      <td>0.146512</td>\n",
       "      <td>0.869200</td>\n",
       "      <td>...</td>\n",
       "      <td>NaN</td>\n",
       "      <td>NaN</td>\n",
       "      <td>NaN</td>\n",
       "      <td>NaN</td>\n",
       "      <td>0.043260</td>\n",
       "      <td>0.0</td>\n",
       "      <td>NaN</td>\n",
       "      <td>NaN</td>\n",
       "      <td>NaN</td>\n",
       "      <td>NaN</td>\n",
       "    </tr>\n",
       "    <tr>\n",
       "      <th>std</th>\n",
       "      <td>2.106941e+05</td>\n",
       "      <td>2.656783e+05</td>\n",
       "      <td>7456.670694</td>\n",
       "      <td>7187.238670</td>\n",
       "      <td>7128.450439</td>\n",
       "      <td>208.874874</td>\n",
       "      <td>6.379377e+04</td>\n",
       "      <td>6.678594</td>\n",
       "      <td>0.491812</td>\n",
       "      <td>1.070219</td>\n",
       "      <td>...</td>\n",
       "      <td>NaN</td>\n",
       "      <td>NaN</td>\n",
       "      <td>NaN</td>\n",
       "      <td>NaN</td>\n",
       "      <td>0.204324</td>\n",
       "      <td>0.0</td>\n",
       "      <td>NaN</td>\n",
       "      <td>NaN</td>\n",
       "      <td>NaN</td>\n",
       "      <td>NaN</td>\n",
       "    </tr>\n",
       "    <tr>\n",
       "      <th>min</th>\n",
       "      <td>5.473400e+04</td>\n",
       "      <td>7.069900e+04</td>\n",
       "      <td>500.000000</td>\n",
       "      <td>500.000000</td>\n",
       "      <td>0.000000</td>\n",
       "      <td>15.690000</td>\n",
       "      <td>4.000000e+03</td>\n",
       "      <td>0.000000</td>\n",
       "      <td>0.000000</td>\n",
       "      <td>0.000000</td>\n",
       "      <td>...</td>\n",
       "      <td>NaN</td>\n",
       "      <td>NaN</td>\n",
       "      <td>NaN</td>\n",
       "      <td>NaN</td>\n",
       "      <td>0.000000</td>\n",
       "      <td>0.0</td>\n",
       "      <td>NaN</td>\n",
       "      <td>NaN</td>\n",
       "      <td>NaN</td>\n",
       "      <td>NaN</td>\n",
       "    </tr>\n",
       "    <tr>\n",
       "      <th>25%</th>\n",
       "      <td>5.162210e+05</td>\n",
       "      <td>6.667800e+05</td>\n",
       "      <td>5500.000000</td>\n",
       "      <td>5400.000000</td>\n",
       "      <td>5000.000000</td>\n",
       "      <td>167.020000</td>\n",
       "      <td>4.040400e+04</td>\n",
       "      <td>8.170000</td>\n",
       "      <td>0.000000</td>\n",
       "      <td>0.000000</td>\n",
       "      <td>...</td>\n",
       "      <td>NaN</td>\n",
       "      <td>NaN</td>\n",
       "      <td>NaN</td>\n",
       "      <td>NaN</td>\n",
       "      <td>0.000000</td>\n",
       "      <td>0.0</td>\n",
       "      <td>NaN</td>\n",
       "      <td>NaN</td>\n",
       "      <td>NaN</td>\n",
       "      <td>NaN</td>\n",
       "    </tr>\n",
       "    <tr>\n",
       "      <th>50%</th>\n",
       "      <td>6.656650e+05</td>\n",
       "      <td>8.508120e+05</td>\n",
       "      <td>10000.000000</td>\n",
       "      <td>9600.000000</td>\n",
       "      <td>8975.000000</td>\n",
       "      <td>280.220000</td>\n",
       "      <td>5.900000e+04</td>\n",
       "      <td>13.400000</td>\n",
       "      <td>0.000000</td>\n",
       "      <td>1.000000</td>\n",
       "      <td>...</td>\n",
       "      <td>NaN</td>\n",
       "      <td>NaN</td>\n",
       "      <td>NaN</td>\n",
       "      <td>NaN</td>\n",
       "      <td>0.000000</td>\n",
       "      <td>0.0</td>\n",
       "      <td>NaN</td>\n",
       "      <td>NaN</td>\n",
       "      <td>NaN</td>\n",
       "      <td>NaN</td>\n",
       "    </tr>\n",
       "    <tr>\n",
       "      <th>75%</th>\n",
       "      <td>8.377550e+05</td>\n",
       "      <td>1.047339e+06</td>\n",
       "      <td>15000.000000</td>\n",
       "      <td>15000.000000</td>\n",
       "      <td>14400.000000</td>\n",
       "      <td>430.780000</td>\n",
       "      <td>8.230000e+04</td>\n",
       "      <td>18.600000</td>\n",
       "      <td>0.000000</td>\n",
       "      <td>1.000000</td>\n",
       "      <td>...</td>\n",
       "      <td>NaN</td>\n",
       "      <td>NaN</td>\n",
       "      <td>NaN</td>\n",
       "      <td>NaN</td>\n",
       "      <td>0.000000</td>\n",
       "      <td>0.0</td>\n",
       "      <td>NaN</td>\n",
       "      <td>NaN</td>\n",
       "      <td>NaN</td>\n",
       "      <td>NaN</td>\n",
       "    </tr>\n",
       "    <tr>\n",
       "      <th>max</th>\n",
       "      <td>1.077501e+06</td>\n",
       "      <td>1.314167e+06</td>\n",
       "      <td>35000.000000</td>\n",
       "      <td>35000.000000</td>\n",
       "      <td>35000.000000</td>\n",
       "      <td>1305.190000</td>\n",
       "      <td>6.000000e+06</td>\n",
       "      <td>29.990000</td>\n",
       "      <td>11.000000</td>\n",
       "      <td>8.000000</td>\n",
       "      <td>...</td>\n",
       "      <td>NaN</td>\n",
       "      <td>NaN</td>\n",
       "      <td>NaN</td>\n",
       "      <td>NaN</td>\n",
       "      <td>2.000000</td>\n",
       "      <td>0.0</td>\n",
       "      <td>NaN</td>\n",
       "      <td>NaN</td>\n",
       "      <td>NaN</td>\n",
       "      <td>NaN</td>\n",
       "    </tr>\n",
       "  </tbody>\n",
       "</table>\n",
       "<p>8 rows × 87 columns</p>\n",
       "</div>"
      ],
      "text/plain": [
       "                 id     member_id     loan_amnt   funded_amnt  \\\n",
       "count  3.971700e+04  3.971700e+04  39717.000000  39717.000000   \n",
       "mean   6.831319e+05  8.504636e+05  11219.443815  10947.713196   \n",
       "std    2.106941e+05  2.656783e+05   7456.670694   7187.238670   \n",
       "min    5.473400e+04  7.069900e+04    500.000000    500.000000   \n",
       "25%    5.162210e+05  6.667800e+05   5500.000000   5400.000000   \n",
       "50%    6.656650e+05  8.508120e+05  10000.000000   9600.000000   \n",
       "75%    8.377550e+05  1.047339e+06  15000.000000  15000.000000   \n",
       "max    1.077501e+06  1.314167e+06  35000.000000  35000.000000   \n",
       "\n",
       "       funded_amnt_inv   installment    annual_inc           dti  \\\n",
       "count     39717.000000  39717.000000  3.971700e+04  39717.000000   \n",
       "mean      10397.448868    324.561922  6.896893e+04     13.315130   \n",
       "std        7128.450439    208.874874  6.379377e+04      6.678594   \n",
       "min           0.000000     15.690000  4.000000e+03      0.000000   \n",
       "25%        5000.000000    167.020000  4.040400e+04      8.170000   \n",
       "50%        8975.000000    280.220000  5.900000e+04     13.400000   \n",
       "75%       14400.000000    430.780000  8.230000e+04     18.600000   \n",
       "max       35000.000000   1305.190000  6.000000e+06     29.990000   \n",
       "\n",
       "        delinq_2yrs  inq_last_6mths  ...  num_tl_90g_dpd_24m  \\\n",
       "count  39717.000000    39717.000000  ...                 0.0   \n",
       "mean       0.146512        0.869200  ...                 NaN   \n",
       "std        0.491812        1.070219  ...                 NaN   \n",
       "min        0.000000        0.000000  ...                 NaN   \n",
       "25%        0.000000        0.000000  ...                 NaN   \n",
       "50%        0.000000        1.000000  ...                 NaN   \n",
       "75%        0.000000        1.000000  ...                 NaN   \n",
       "max       11.000000        8.000000  ...                 NaN   \n",
       "\n",
       "       num_tl_op_past_12m  pct_tl_nvr_dlq  percent_bc_gt_75  \\\n",
       "count                 0.0             0.0               0.0   \n",
       "mean                  NaN             NaN               NaN   \n",
       "std                   NaN             NaN               NaN   \n",
       "min                   NaN             NaN               NaN   \n",
       "25%                   NaN             NaN               NaN   \n",
       "50%                   NaN             NaN               NaN   \n",
       "75%                   NaN             NaN               NaN   \n",
       "max                   NaN             NaN               NaN   \n",
       "\n",
       "       pub_rec_bankruptcies  tax_liens  tot_hi_cred_lim  total_bal_ex_mort  \\\n",
       "count          39020.000000    39678.0              0.0                0.0   \n",
       "mean               0.043260        0.0              NaN                NaN   \n",
       "std                0.204324        0.0              NaN                NaN   \n",
       "min                0.000000        0.0              NaN                NaN   \n",
       "25%                0.000000        0.0              NaN                NaN   \n",
       "50%                0.000000        0.0              NaN                NaN   \n",
       "75%                0.000000        0.0              NaN                NaN   \n",
       "max                2.000000        0.0              NaN                NaN   \n",
       "\n",
       "       total_bc_limit  total_il_high_credit_limit  \n",
       "count             0.0                         0.0  \n",
       "mean              NaN                         NaN  \n",
       "std               NaN                         NaN  \n",
       "min               NaN                         NaN  \n",
       "25%               NaN                         NaN  \n",
       "50%               NaN                         NaN  \n",
       "75%               NaN                         NaN  \n",
       "max               NaN                         NaN  \n",
       "\n",
       "[8 rows x 87 columns]"
      ]
     },
     "execution_count": 3,
     "metadata": {},
     "output_type": "execute_result"
    }
   ],
   "source": [
    "# Display Dataframe Info:\n",
    "df_loan_data.describe()"
   ]
  },
  {
   "cell_type": "code",
   "execution_count": 4,
   "id": "47f4fc16",
   "metadata": {},
   "outputs": [
    {
     "data": {
      "text/plain": [
       "(39717, 111)"
      ]
     },
     "execution_count": 4,
     "metadata": {},
     "output_type": "execute_result"
    }
   ],
   "source": [
    "# Display Dataframe shape:\n",
    "df_loan_data.shape"
   ]
  },
  {
   "cell_type": "markdown",
   "id": "3596bf0e",
   "metadata": {},
   "source": [
    "<h4 style = \"color : Black\"> EDA Step 2: Data Cleaning </h4>\n",
    "\n",
    "- Check for the missing values and remove them(if exist).\n",
    "- Filter out the required information\n",
    "- Figure out the unneccessary information and remove them.\n",
    "- Standarizing the values\n",
    "- Remove Outliers"
   ]
  },
  {
   "cell_type": "code",
   "execution_count": 5,
   "id": "f60c6c9d",
   "metadata": {
    "scrolled": true
   },
   "outputs": [
    {
     "name": "stdout",
     "output_type": "stream",
     "text": [
      "id                              0.000000\n",
      "member_id                       0.000000\n",
      "loan_amnt                       0.000000\n",
      "funded_amnt                     0.000000\n",
      "funded_amnt_inv                 0.000000\n",
      "                                 ...    \n",
      "tax_liens                       0.098195\n",
      "tot_hi_cred_lim               100.000000\n",
      "total_bal_ex_mort             100.000000\n",
      "total_bc_limit                100.000000\n",
      "total_il_high_credit_limit    100.000000\n",
      "Length: 111, dtype: float64\n"
     ]
    }
   ],
   "source": [
    "#Check for the missing values Percentage.\n",
    "missing_value_percentage = (df_loan_data.isnull().sum()/df_loan_data.shape[0])*100\n",
    "print(missing_value_percentage)"
   ]
  },
  {
   "cell_type": "markdown",
   "id": "129d1b8b",
   "metadata": {},
   "source": [
    "From the missing percentage it seems many columns have above 50% of the missing values so, removing them."
   ]
  },
  {
   "cell_type": "code",
   "execution_count": 6,
   "id": "86a3e8f8",
   "metadata": {},
   "outputs": [
    {
     "name": "stdout",
     "output_type": "stream",
     "text": [
      "Index(['mths_since_last_delinq', 'mths_since_last_record', 'next_pymnt_d',\n",
      "       'mths_since_last_major_derog', 'annual_inc_joint', 'dti_joint',\n",
      "       'verification_status_joint', 'tot_coll_amt', 'tot_cur_bal',\n",
      "       'open_acc_6m', 'open_il_6m', 'open_il_12m', 'open_il_24m',\n",
      "       'mths_since_rcnt_il', 'total_bal_il', 'il_util', 'open_rv_12m',\n",
      "       'open_rv_24m', 'max_bal_bc', 'all_util', 'total_rev_hi_lim', 'inq_fi',\n",
      "       'total_cu_tl', 'inq_last_12m', 'acc_open_past_24mths', 'avg_cur_bal',\n",
      "       'bc_open_to_buy', 'bc_util', 'mo_sin_old_il_acct',\n",
      "       'mo_sin_old_rev_tl_op', 'mo_sin_rcnt_rev_tl_op', 'mo_sin_rcnt_tl',\n",
      "       'mort_acc', 'mths_since_recent_bc', 'mths_since_recent_bc_dlq',\n",
      "       'mths_since_recent_inq', 'mths_since_recent_revol_delinq',\n",
      "       'num_accts_ever_120_pd', 'num_actv_bc_tl', 'num_actv_rev_tl',\n",
      "       'num_bc_sats', 'num_bc_tl', 'num_il_tl', 'num_op_rev_tl',\n",
      "       'num_rev_accts', 'num_rev_tl_bal_gt_0', 'num_sats', 'num_tl_120dpd_2m',\n",
      "       'num_tl_30dpd', 'num_tl_90g_dpd_24m', 'num_tl_op_past_12m',\n",
      "       'pct_tl_nvr_dlq', 'percent_bc_gt_75', 'tot_hi_cred_lim',\n",
      "       'total_bal_ex_mort', 'total_bc_limit', 'total_il_high_credit_limit'],\n",
      "      dtype='object')\n"
     ]
    }
   ],
   "source": [
    "# Fetch the list of the columns having more than 50% of the missing values\n",
    "col_missing_value = df_loan_data.columns[((df_loan_data.isnull().sum()/df_loan_data.shape[0])*100) > 50]\n",
    "# Print list of the columns\n",
    "print(col_missing_value)\n",
    "# Drop the all the missing columns from the dataframe\n",
    "df_loan_data.drop(col_missing_value, axis = 'columns', inplace = True)"
   ]
  },
  {
   "cell_type": "code",
   "execution_count": 7,
   "id": "880ade58",
   "metadata": {
    "scrolled": true
   },
   "outputs": [
    {
     "data": {
      "text/html": [
       "<div>\n",
       "<style scoped>\n",
       "    .dataframe tbody tr th:only-of-type {\n",
       "        vertical-align: middle;\n",
       "    }\n",
       "\n",
       "    .dataframe tbody tr th {\n",
       "        vertical-align: top;\n",
       "    }\n",
       "\n",
       "    .dataframe thead th {\n",
       "        text-align: right;\n",
       "    }\n",
       "</style>\n",
       "<table border=\"1\" class=\"dataframe\">\n",
       "  <thead>\n",
       "    <tr style=\"text-align: right;\">\n",
       "      <th></th>\n",
       "      <th>id</th>\n",
       "      <th>member_id</th>\n",
       "      <th>loan_amnt</th>\n",
       "      <th>funded_amnt</th>\n",
       "      <th>funded_amnt_inv</th>\n",
       "      <th>installment</th>\n",
       "      <th>annual_inc</th>\n",
       "      <th>dti</th>\n",
       "      <th>delinq_2yrs</th>\n",
       "      <th>inq_last_6mths</th>\n",
       "      <th>...</th>\n",
       "      <th>recoveries</th>\n",
       "      <th>collection_recovery_fee</th>\n",
       "      <th>last_pymnt_amnt</th>\n",
       "      <th>collections_12_mths_ex_med</th>\n",
       "      <th>policy_code</th>\n",
       "      <th>acc_now_delinq</th>\n",
       "      <th>chargeoff_within_12_mths</th>\n",
       "      <th>delinq_amnt</th>\n",
       "      <th>pub_rec_bankruptcies</th>\n",
       "      <th>tax_liens</th>\n",
       "    </tr>\n",
       "  </thead>\n",
       "  <tbody>\n",
       "    <tr>\n",
       "      <th>count</th>\n",
       "      <td>3.971700e+04</td>\n",
       "      <td>3.971700e+04</td>\n",
       "      <td>39717.000000</td>\n",
       "      <td>39717.000000</td>\n",
       "      <td>39717.000000</td>\n",
       "      <td>39717.000000</td>\n",
       "      <td>3.971700e+04</td>\n",
       "      <td>39717.000000</td>\n",
       "      <td>39717.000000</td>\n",
       "      <td>39717.000000</td>\n",
       "      <td>...</td>\n",
       "      <td>39717.000000</td>\n",
       "      <td>39717.000000</td>\n",
       "      <td>39717.000000</td>\n",
       "      <td>39661.0</td>\n",
       "      <td>39717.0</td>\n",
       "      <td>39717.0</td>\n",
       "      <td>39661.0</td>\n",
       "      <td>39717.0</td>\n",
       "      <td>39020.000000</td>\n",
       "      <td>39678.0</td>\n",
       "    </tr>\n",
       "    <tr>\n",
       "      <th>mean</th>\n",
       "      <td>6.831319e+05</td>\n",
       "      <td>8.504636e+05</td>\n",
       "      <td>11219.443815</td>\n",
       "      <td>10947.713196</td>\n",
       "      <td>10397.448868</td>\n",
       "      <td>324.561922</td>\n",
       "      <td>6.896893e+04</td>\n",
       "      <td>13.315130</td>\n",
       "      <td>0.146512</td>\n",
       "      <td>0.869200</td>\n",
       "      <td>...</td>\n",
       "      <td>95.221624</td>\n",
       "      <td>12.406112</td>\n",
       "      <td>2678.826162</td>\n",
       "      <td>0.0</td>\n",
       "      <td>1.0</td>\n",
       "      <td>0.0</td>\n",
       "      <td>0.0</td>\n",
       "      <td>0.0</td>\n",
       "      <td>0.043260</td>\n",
       "      <td>0.0</td>\n",
       "    </tr>\n",
       "    <tr>\n",
       "      <th>std</th>\n",
       "      <td>2.106941e+05</td>\n",
       "      <td>2.656783e+05</td>\n",
       "      <td>7456.670694</td>\n",
       "      <td>7187.238670</td>\n",
       "      <td>7128.450439</td>\n",
       "      <td>208.874874</td>\n",
       "      <td>6.379377e+04</td>\n",
       "      <td>6.678594</td>\n",
       "      <td>0.491812</td>\n",
       "      <td>1.070219</td>\n",
       "      <td>...</td>\n",
       "      <td>688.744771</td>\n",
       "      <td>148.671593</td>\n",
       "      <td>4447.136012</td>\n",
       "      <td>0.0</td>\n",
       "      <td>0.0</td>\n",
       "      <td>0.0</td>\n",
       "      <td>0.0</td>\n",
       "      <td>0.0</td>\n",
       "      <td>0.204324</td>\n",
       "      <td>0.0</td>\n",
       "    </tr>\n",
       "    <tr>\n",
       "      <th>min</th>\n",
       "      <td>5.473400e+04</td>\n",
       "      <td>7.069900e+04</td>\n",
       "      <td>500.000000</td>\n",
       "      <td>500.000000</td>\n",
       "      <td>0.000000</td>\n",
       "      <td>15.690000</td>\n",
       "      <td>4.000000e+03</td>\n",
       "      <td>0.000000</td>\n",
       "      <td>0.000000</td>\n",
       "      <td>0.000000</td>\n",
       "      <td>...</td>\n",
       "      <td>0.000000</td>\n",
       "      <td>0.000000</td>\n",
       "      <td>0.000000</td>\n",
       "      <td>0.0</td>\n",
       "      <td>1.0</td>\n",
       "      <td>0.0</td>\n",
       "      <td>0.0</td>\n",
       "      <td>0.0</td>\n",
       "      <td>0.000000</td>\n",
       "      <td>0.0</td>\n",
       "    </tr>\n",
       "    <tr>\n",
       "      <th>25%</th>\n",
       "      <td>5.162210e+05</td>\n",
       "      <td>6.667800e+05</td>\n",
       "      <td>5500.000000</td>\n",
       "      <td>5400.000000</td>\n",
       "      <td>5000.000000</td>\n",
       "      <td>167.020000</td>\n",
       "      <td>4.040400e+04</td>\n",
       "      <td>8.170000</td>\n",
       "      <td>0.000000</td>\n",
       "      <td>0.000000</td>\n",
       "      <td>...</td>\n",
       "      <td>0.000000</td>\n",
       "      <td>0.000000</td>\n",
       "      <td>218.680000</td>\n",
       "      <td>0.0</td>\n",
       "      <td>1.0</td>\n",
       "      <td>0.0</td>\n",
       "      <td>0.0</td>\n",
       "      <td>0.0</td>\n",
       "      <td>0.000000</td>\n",
       "      <td>0.0</td>\n",
       "    </tr>\n",
       "    <tr>\n",
       "      <th>50%</th>\n",
       "      <td>6.656650e+05</td>\n",
       "      <td>8.508120e+05</td>\n",
       "      <td>10000.000000</td>\n",
       "      <td>9600.000000</td>\n",
       "      <td>8975.000000</td>\n",
       "      <td>280.220000</td>\n",
       "      <td>5.900000e+04</td>\n",
       "      <td>13.400000</td>\n",
       "      <td>0.000000</td>\n",
       "      <td>1.000000</td>\n",
       "      <td>...</td>\n",
       "      <td>0.000000</td>\n",
       "      <td>0.000000</td>\n",
       "      <td>546.140000</td>\n",
       "      <td>0.0</td>\n",
       "      <td>1.0</td>\n",
       "      <td>0.0</td>\n",
       "      <td>0.0</td>\n",
       "      <td>0.0</td>\n",
       "      <td>0.000000</td>\n",
       "      <td>0.0</td>\n",
       "    </tr>\n",
       "    <tr>\n",
       "      <th>75%</th>\n",
       "      <td>8.377550e+05</td>\n",
       "      <td>1.047339e+06</td>\n",
       "      <td>15000.000000</td>\n",
       "      <td>15000.000000</td>\n",
       "      <td>14400.000000</td>\n",
       "      <td>430.780000</td>\n",
       "      <td>8.230000e+04</td>\n",
       "      <td>18.600000</td>\n",
       "      <td>0.000000</td>\n",
       "      <td>1.000000</td>\n",
       "      <td>...</td>\n",
       "      <td>0.000000</td>\n",
       "      <td>0.000000</td>\n",
       "      <td>3293.160000</td>\n",
       "      <td>0.0</td>\n",
       "      <td>1.0</td>\n",
       "      <td>0.0</td>\n",
       "      <td>0.0</td>\n",
       "      <td>0.0</td>\n",
       "      <td>0.000000</td>\n",
       "      <td>0.0</td>\n",
       "    </tr>\n",
       "    <tr>\n",
       "      <th>max</th>\n",
       "      <td>1.077501e+06</td>\n",
       "      <td>1.314167e+06</td>\n",
       "      <td>35000.000000</td>\n",
       "      <td>35000.000000</td>\n",
       "      <td>35000.000000</td>\n",
       "      <td>1305.190000</td>\n",
       "      <td>6.000000e+06</td>\n",
       "      <td>29.990000</td>\n",
       "      <td>11.000000</td>\n",
       "      <td>8.000000</td>\n",
       "      <td>...</td>\n",
       "      <td>29623.350000</td>\n",
       "      <td>7002.190000</td>\n",
       "      <td>36115.200000</td>\n",
       "      <td>0.0</td>\n",
       "      <td>1.0</td>\n",
       "      <td>0.0</td>\n",
       "      <td>0.0</td>\n",
       "      <td>0.0</td>\n",
       "      <td>2.000000</td>\n",
       "      <td>0.0</td>\n",
       "    </tr>\n",
       "  </tbody>\n",
       "</table>\n",
       "<p>8 rows × 31 columns</p>\n",
       "</div>"
      ],
      "text/plain": [
       "                 id     member_id     loan_amnt   funded_amnt  \\\n",
       "count  3.971700e+04  3.971700e+04  39717.000000  39717.000000   \n",
       "mean   6.831319e+05  8.504636e+05  11219.443815  10947.713196   \n",
       "std    2.106941e+05  2.656783e+05   7456.670694   7187.238670   \n",
       "min    5.473400e+04  7.069900e+04    500.000000    500.000000   \n",
       "25%    5.162210e+05  6.667800e+05   5500.000000   5400.000000   \n",
       "50%    6.656650e+05  8.508120e+05  10000.000000   9600.000000   \n",
       "75%    8.377550e+05  1.047339e+06  15000.000000  15000.000000   \n",
       "max    1.077501e+06  1.314167e+06  35000.000000  35000.000000   \n",
       "\n",
       "       funded_amnt_inv   installment    annual_inc           dti  \\\n",
       "count     39717.000000  39717.000000  3.971700e+04  39717.000000   \n",
       "mean      10397.448868    324.561922  6.896893e+04     13.315130   \n",
       "std        7128.450439    208.874874  6.379377e+04      6.678594   \n",
       "min           0.000000     15.690000  4.000000e+03      0.000000   \n",
       "25%        5000.000000    167.020000  4.040400e+04      8.170000   \n",
       "50%        8975.000000    280.220000  5.900000e+04     13.400000   \n",
       "75%       14400.000000    430.780000  8.230000e+04     18.600000   \n",
       "max       35000.000000   1305.190000  6.000000e+06     29.990000   \n",
       "\n",
       "        delinq_2yrs  inq_last_6mths  ...    recoveries  \\\n",
       "count  39717.000000    39717.000000  ...  39717.000000   \n",
       "mean       0.146512        0.869200  ...     95.221624   \n",
       "std        0.491812        1.070219  ...    688.744771   \n",
       "min        0.000000        0.000000  ...      0.000000   \n",
       "25%        0.000000        0.000000  ...      0.000000   \n",
       "50%        0.000000        1.000000  ...      0.000000   \n",
       "75%        0.000000        1.000000  ...      0.000000   \n",
       "max       11.000000        8.000000  ...  29623.350000   \n",
       "\n",
       "       collection_recovery_fee  last_pymnt_amnt  collections_12_mths_ex_med  \\\n",
       "count             39717.000000     39717.000000                     39661.0   \n",
       "mean                 12.406112      2678.826162                         0.0   \n",
       "std                 148.671593      4447.136012                         0.0   \n",
       "min                   0.000000         0.000000                         0.0   \n",
       "25%                   0.000000       218.680000                         0.0   \n",
       "50%                   0.000000       546.140000                         0.0   \n",
       "75%                   0.000000      3293.160000                         0.0   \n",
       "max                7002.190000     36115.200000                         0.0   \n",
       "\n",
       "       policy_code  acc_now_delinq  chargeoff_within_12_mths  delinq_amnt  \\\n",
       "count      39717.0         39717.0                   39661.0      39717.0   \n",
       "mean           1.0             0.0                       0.0          0.0   \n",
       "std            0.0             0.0                       0.0          0.0   \n",
       "min            1.0             0.0                       0.0          0.0   \n",
       "25%            1.0             0.0                       0.0          0.0   \n",
       "50%            1.0             0.0                       0.0          0.0   \n",
       "75%            1.0             0.0                       0.0          0.0   \n",
       "max            1.0             0.0                       0.0          0.0   \n",
       "\n",
       "       pub_rec_bankruptcies  tax_liens  \n",
       "count          39020.000000    39678.0  \n",
       "mean               0.043260        0.0  \n",
       "std                0.204324        0.0  \n",
       "min                0.000000        0.0  \n",
       "25%                0.000000        0.0  \n",
       "50%                0.000000        0.0  \n",
       "75%                0.000000        0.0  \n",
       "max                2.000000        0.0  \n",
       "\n",
       "[8 rows x 31 columns]"
      ]
     },
     "execution_count": 7,
     "metadata": {},
     "output_type": "execute_result"
    }
   ],
   "source": [
    "# Display Dataframe Info after removing missing values:\n",
    "df_loan_data.describe()"
   ]
  },
  {
   "cell_type": "code",
   "execution_count": 8,
   "id": "f5e89ac0",
   "metadata": {},
   "outputs": [
    {
     "data": {
      "text/plain": [
       "(39717, 54)"
      ]
     },
     "execution_count": 8,
     "metadata": {},
     "output_type": "execute_result"
    }
   ],
   "source": [
    "# Display Dataframe shape after removing missing values:\n",
    "df_loan_data.shape"
   ]
  },
  {
   "cell_type": "code",
   "execution_count": 9,
   "id": "74031493",
   "metadata": {},
   "outputs": [
    {
     "data": {
      "text/plain": [
       "9"
      ]
     },
     "execution_count": 9,
     "metadata": {},
     "output_type": "execute_result"
    }
   ],
   "source": [
    "# check if we have columns having the single unique value.\n",
    "len(df_loan_data.columns[df_loan_data.nunique() == 1])"
   ]
  },
  {
   "cell_type": "markdown",
   "id": "6e0aee52",
   "metadata": {},
   "source": [
    "**We have total 9 columns having a single unique observations**"
   ]
  },
  {
   "cell_type": "code",
   "execution_count": 10,
   "id": "6dc7911b",
   "metadata": {},
   "outputs": [
    {
     "name": "stdout",
     "output_type": "stream",
     "text": [
      "Index(['pymnt_plan', 'initial_list_status', 'collections_12_mths_ex_med',\n",
      "       'policy_code', 'application_type', 'acc_now_delinq',\n",
      "       'chargeoff_within_12_mths', 'delinq_amnt', 'tax_liens'],\n",
      "      dtype='object')\n"
     ]
    }
   ],
   "source": [
    "# Fetch the list of the columns having single unique value\n",
    "col_one_unique_value = df_loan_data.columns[df_loan_data.nunique() == 1]\n",
    "# Print list of the columns\n",
    "print(col_one_unique_value)\n",
    "# Drop the all such columns from the dataframe\n",
    "df_loan_data.drop(col_one_unique_value, axis = 'columns', inplace = True)"
   ]
  },
  {
   "cell_type": "code",
   "execution_count": 11,
   "id": "144f6b42",
   "metadata": {},
   "outputs": [
    {
     "data": {
      "text/plain": [
       "(39717, 45)"
      ]
     },
     "execution_count": 11,
     "metadata": {},
     "output_type": "execute_result"
    }
   ],
   "source": [
    "# Display Dataframe shape after removing Duplicate values:\n",
    "df_loan_data.shape"
   ]
  },
  {
   "cell_type": "code",
   "execution_count": 12,
   "id": "e429a4f9",
   "metadata": {},
   "outputs": [
    {
     "data": {
      "text/plain": [
       "0"
      ]
     },
     "execution_count": 12,
     "metadata": {},
     "output_type": "execute_result"
    }
   ],
   "source": [
    "# Check for the duplicate Rows in the data frome\n",
    "row_duplicate = df_loan_data[df_loan_data.duplicated(keep = 'first')]\n",
    "len(row_duplicate)"
   ]
  },
  {
   "cell_type": "markdown",
   "id": "3a669555",
   "metadata": {},
   "source": [
    "**We don't any duplicate rows in the data frame. So, we are now done with the Data Filtering.**"
   ]
  },
  {
   "cell_type": "code",
   "execution_count": 13,
   "id": "3b9f3724",
   "metadata": {},
   "outputs": [
    {
     "name": "stdout",
     "output_type": "stream",
     "text": [
      "Index(['id', 'member_id', 'loan_amnt', 'funded_amnt', 'funded_amnt_inv',\n",
      "       'term', 'int_rate', 'installment', 'grade', 'sub_grade', 'emp_title',\n",
      "       'emp_length', 'home_ownership', 'annual_inc', 'verification_status',\n",
      "       'issue_d', 'loan_status', 'url', 'desc', 'purpose', 'title', 'zip_code',\n",
      "       'addr_state', 'dti', 'delinq_2yrs', 'earliest_cr_line',\n",
      "       'inq_last_6mths', 'open_acc', 'pub_rec', 'revol_bal', 'revol_util',\n",
      "       'total_acc', 'out_prncp', 'out_prncp_inv', 'total_pymnt',\n",
      "       'total_pymnt_inv', 'total_rec_prncp', 'total_rec_int',\n",
      "       'total_rec_late_fee', 'recoveries', 'collection_recovery_fee',\n",
      "       'last_pymnt_d', 'last_pymnt_amnt', 'last_credit_pull_d',\n",
      "       'pub_rec_bankruptcies'],\n",
      "      dtype='object')\n",
      "Total nummber of columns: 45.\n"
     ]
    }
   ],
   "source": [
    "#Display coloumns\n",
    "print(df_loan_data.columns)\n",
    "print(\"Total nummber of columns: {}.\".format(len(df_loan_data.columns)))"
   ]
  },
  {
   "cell_type": "markdown",
   "id": "29686bfd",
   "metadata": {},
   "source": [
    "From the above list of columns it looks like we have few unnecessary/irrelevant coloumns that can be drop from the data frame.\n",
    "The list of the irrelevant columns are:\n",
    "- zip_code:\tThe first 3 numbers of the zip code provided by the borrower in the loan application.\n",
    "- url:\tURL for the LC page with listing data.\n",
    "- sub_grad: LC assigned loan subgrade\n",
    "- earliest_cr_line: The month the borrower's earliest reported credit line was opened\n",
    "- pub_rec: Number of derogatory public records\n",
    "- total_acc : The total number of credit lines currently in the borrower's credit file\n"
   ]
  },
  {
   "cell_type": "code",
   "execution_count": 14,
   "id": "b9e17a89",
   "metadata": {},
   "outputs": [],
   "source": [
    "# dropping the irrelevant column\n",
    "columns=['dti','id','funded_amnt','member_id','title','pub_rec_bankruptcies','issue_d','emp_title','desc','zip_code','url','addr_state','delinq_2yrs','earliest_cr_line','inq_last_6mths','open_acc','pub_rec','revol_bal','revol_util','total_acc','out_prncp','out_prncp_inv','total_pymnt','total_pymnt_inv','total_rec_prncp','total_rec_int','total_rec_late_fee','recoveries','collection_recovery_fee','last_pymnt_d','last_pymnt_amnt','last_credit_pull_d']\n",
    "df_loan_data.drop(columns, axis = 1, inplace = True)\n"
   ]
  },
  {
   "cell_type": "code",
   "execution_count": 15,
   "id": "6de2fda2",
   "metadata": {},
   "outputs": [
    {
     "name": "stdout",
     "output_type": "stream",
     "text": [
      "Index(['loan_amnt', 'funded_amnt_inv', 'term', 'int_rate', 'installment',\n",
      "       'grade', 'sub_grade', 'emp_length', 'home_ownership', 'annual_inc',\n",
      "       'verification_status', 'loan_status', 'purpose'],\n",
      "      dtype='object')\n",
      "Total nummber of columns: 13.\n"
     ]
    }
   ],
   "source": [
    "print(df_loan_data.columns)\n",
    "print(\"Total nummber of columns: {}.\".format(len(df_loan_data.columns)))"
   ]
  },
  {
   "cell_type": "code",
   "execution_count": 16,
   "id": "9be5c5bb",
   "metadata": {},
   "outputs": [],
   "source": [
    "# Renaming the column name\n",
    "# installment : EMI\n",
    "# Annual_inc: Annual Income\n",
    "# term : Term_In_Months"
   ]
  },
  {
   "cell_type": "code",
   "execution_count": 17,
   "id": "394ab5c5",
   "metadata": {},
   "outputs": [],
   "source": [
    "#Renaming the column\n",
    "df_loan_data.rename(columns = {'annual_inc':'annual_income','installment':'EMI','term':'term_in_months'}, inplace = True)\n"
   ]
  },
  {
   "cell_type": "code",
   "execution_count": 18,
   "id": "199d9ad8",
   "metadata": {},
   "outputs": [
    {
     "name": "stdout",
     "output_type": "stream",
     "text": [
      "Index(['loan_amnt', 'funded_amnt_inv', 'term_in_months', 'int_rate', 'EMI',\n",
      "       'grade', 'sub_grade', 'emp_length', 'home_ownership', 'annual_income',\n",
      "       'verification_status', 'loan_status', 'purpose'],\n",
      "      dtype='object')\n"
     ]
    }
   ],
   "source": [
    "print(df_loan_data.columns)"
   ]
  },
  {
   "cell_type": "code",
   "execution_count": 19,
   "id": "f3797032",
   "metadata": {},
   "outputs": [
    {
     "data": {
      "text/html": [
       "<div>\n",
       "<style scoped>\n",
       "    .dataframe tbody tr th:only-of-type {\n",
       "        vertical-align: middle;\n",
       "    }\n",
       "\n",
       "    .dataframe tbody tr th {\n",
       "        vertical-align: top;\n",
       "    }\n",
       "\n",
       "    .dataframe thead th {\n",
       "        text-align: right;\n",
       "    }\n",
       "</style>\n",
       "<table border=\"1\" class=\"dataframe\">\n",
       "  <thead>\n",
       "    <tr style=\"text-align: right;\">\n",
       "      <th></th>\n",
       "      <th>loan_amnt</th>\n",
       "      <th>funded_amnt_inv</th>\n",
       "      <th>term_in_months</th>\n",
       "      <th>int_rate</th>\n",
       "      <th>EMI</th>\n",
       "      <th>grade</th>\n",
       "      <th>sub_grade</th>\n",
       "      <th>emp_length</th>\n",
       "      <th>home_ownership</th>\n",
       "      <th>annual_income</th>\n",
       "      <th>verification_status</th>\n",
       "      <th>loan_status</th>\n",
       "      <th>purpose</th>\n",
       "    </tr>\n",
       "  </thead>\n",
       "  <tbody>\n",
       "    <tr>\n",
       "      <th>0</th>\n",
       "      <td>5000</td>\n",
       "      <td>4975.0</td>\n",
       "      <td>36 months</td>\n",
       "      <td>10.65%</td>\n",
       "      <td>162.87</td>\n",
       "      <td>B</td>\n",
       "      <td>B2</td>\n",
       "      <td>10+ years</td>\n",
       "      <td>RENT</td>\n",
       "      <td>24000.0</td>\n",
       "      <td>Verified</td>\n",
       "      <td>Fully Paid</td>\n",
       "      <td>credit_card</td>\n",
       "    </tr>\n",
       "    <tr>\n",
       "      <th>1</th>\n",
       "      <td>2500</td>\n",
       "      <td>2500.0</td>\n",
       "      <td>60 months</td>\n",
       "      <td>15.27%</td>\n",
       "      <td>59.83</td>\n",
       "      <td>C</td>\n",
       "      <td>C4</td>\n",
       "      <td>&lt; 1 year</td>\n",
       "      <td>RENT</td>\n",
       "      <td>30000.0</td>\n",
       "      <td>Source Verified</td>\n",
       "      <td>Charged Off</td>\n",
       "      <td>car</td>\n",
       "    </tr>\n",
       "    <tr>\n",
       "      <th>2</th>\n",
       "      <td>2400</td>\n",
       "      <td>2400.0</td>\n",
       "      <td>36 months</td>\n",
       "      <td>15.96%</td>\n",
       "      <td>84.33</td>\n",
       "      <td>C</td>\n",
       "      <td>C5</td>\n",
       "      <td>10+ years</td>\n",
       "      <td>RENT</td>\n",
       "      <td>12252.0</td>\n",
       "      <td>Not Verified</td>\n",
       "      <td>Fully Paid</td>\n",
       "      <td>small_business</td>\n",
       "    </tr>\n",
       "    <tr>\n",
       "      <th>3</th>\n",
       "      <td>10000</td>\n",
       "      <td>10000.0</td>\n",
       "      <td>36 months</td>\n",
       "      <td>13.49%</td>\n",
       "      <td>339.31</td>\n",
       "      <td>C</td>\n",
       "      <td>C1</td>\n",
       "      <td>10+ years</td>\n",
       "      <td>RENT</td>\n",
       "      <td>49200.0</td>\n",
       "      <td>Source Verified</td>\n",
       "      <td>Fully Paid</td>\n",
       "      <td>other</td>\n",
       "    </tr>\n",
       "    <tr>\n",
       "      <th>4</th>\n",
       "      <td>3000</td>\n",
       "      <td>3000.0</td>\n",
       "      <td>60 months</td>\n",
       "      <td>12.69%</td>\n",
       "      <td>67.79</td>\n",
       "      <td>B</td>\n",
       "      <td>B5</td>\n",
       "      <td>1 year</td>\n",
       "      <td>RENT</td>\n",
       "      <td>80000.0</td>\n",
       "      <td>Source Verified</td>\n",
       "      <td>Current</td>\n",
       "      <td>other</td>\n",
       "    </tr>\n",
       "  </tbody>\n",
       "</table>\n",
       "</div>"
      ],
      "text/plain": [
       "   loan_amnt  funded_amnt_inv term_in_months int_rate     EMI grade sub_grade  \\\n",
       "0       5000           4975.0      36 months   10.65%  162.87     B        B2   \n",
       "1       2500           2500.0      60 months   15.27%   59.83     C        C4   \n",
       "2       2400           2400.0      36 months   15.96%   84.33     C        C5   \n",
       "3      10000          10000.0      36 months   13.49%  339.31     C        C1   \n",
       "4       3000           3000.0      60 months   12.69%   67.79     B        B5   \n",
       "\n",
       "  emp_length home_ownership  annual_income verification_status  loan_status  \\\n",
       "0  10+ years           RENT        24000.0            Verified   Fully Paid   \n",
       "1   < 1 year           RENT        30000.0     Source Verified  Charged Off   \n",
       "2  10+ years           RENT        12252.0        Not Verified   Fully Paid   \n",
       "3  10+ years           RENT        49200.0     Source Verified   Fully Paid   \n",
       "4     1 year           RENT        80000.0     Source Verified      Current   \n",
       "\n",
       "          purpose  \n",
       "0     credit_card  \n",
       "1             car  \n",
       "2  small_business  \n",
       "3           other  \n",
       "4           other  "
      ]
     },
     "execution_count": 19,
     "metadata": {},
     "output_type": "execute_result"
    }
   ],
   "source": [
    "# Display Dataframe\n",
    "df_loan_data.head()"
   ]
  },
  {
   "cell_type": "code",
   "execution_count": 20,
   "id": "0b25a1c5",
   "metadata": {},
   "outputs": [],
   "source": [
    "df_loan_data = df_loan_data[df_loan_data.loan_status!='Current']"
   ]
  },
  {
   "cell_type": "code",
   "execution_count": 21,
   "id": "e4fd08fc",
   "metadata": {},
   "outputs": [],
   "source": [
    "df_loan_data = df_loan_data.astype({\"term_in_months\":'string', \"int_rate\":'string'}) \n",
    "df_loan_data.term_in_months = df_loan_data.term_in_months.apply(lambda term: term.strip('months')).astype(int)\n",
    "df_loan_data.int_rate = df_loan_data.int_rate.apply(lambda rate: rate.strip('%')).astype(float)"
   ]
  },
  {
   "cell_type": "code",
   "execution_count": 22,
   "id": "eda17c8c",
   "metadata": {},
   "outputs": [
    {
     "data": {
      "text/html": [
       "<div>\n",
       "<style scoped>\n",
       "    .dataframe tbody tr th:only-of-type {\n",
       "        vertical-align: middle;\n",
       "    }\n",
       "\n",
       "    .dataframe tbody tr th {\n",
       "        vertical-align: top;\n",
       "    }\n",
       "\n",
       "    .dataframe thead th {\n",
       "        text-align: right;\n",
       "    }\n",
       "</style>\n",
       "<table border=\"1\" class=\"dataframe\">\n",
       "  <thead>\n",
       "    <tr style=\"text-align: right;\">\n",
       "      <th></th>\n",
       "      <th>loan_amnt</th>\n",
       "      <th>funded_amnt_inv</th>\n",
       "      <th>term_in_months</th>\n",
       "      <th>int_rate</th>\n",
       "      <th>EMI</th>\n",
       "      <th>grade</th>\n",
       "      <th>sub_grade</th>\n",
       "      <th>emp_length</th>\n",
       "      <th>home_ownership</th>\n",
       "      <th>annual_income</th>\n",
       "      <th>verification_status</th>\n",
       "      <th>loan_status</th>\n",
       "      <th>purpose</th>\n",
       "    </tr>\n",
       "  </thead>\n",
       "  <tbody>\n",
       "    <tr>\n",
       "      <th>0</th>\n",
       "      <td>5000</td>\n",
       "      <td>4975.0</td>\n",
       "      <td>36</td>\n",
       "      <td>10.65</td>\n",
       "      <td>162.87</td>\n",
       "      <td>B</td>\n",
       "      <td>B2</td>\n",
       "      <td>10+ years</td>\n",
       "      <td>RENT</td>\n",
       "      <td>24000.0</td>\n",
       "      <td>Verified</td>\n",
       "      <td>Fully Paid</td>\n",
       "      <td>credit_card</td>\n",
       "    </tr>\n",
       "    <tr>\n",
       "      <th>1</th>\n",
       "      <td>2500</td>\n",
       "      <td>2500.0</td>\n",
       "      <td>60</td>\n",
       "      <td>15.27</td>\n",
       "      <td>59.83</td>\n",
       "      <td>C</td>\n",
       "      <td>C4</td>\n",
       "      <td>&lt; 1 year</td>\n",
       "      <td>RENT</td>\n",
       "      <td>30000.0</td>\n",
       "      <td>Source Verified</td>\n",
       "      <td>Charged Off</td>\n",
       "      <td>car</td>\n",
       "    </tr>\n",
       "    <tr>\n",
       "      <th>2</th>\n",
       "      <td>2400</td>\n",
       "      <td>2400.0</td>\n",
       "      <td>36</td>\n",
       "      <td>15.96</td>\n",
       "      <td>84.33</td>\n",
       "      <td>C</td>\n",
       "      <td>C5</td>\n",
       "      <td>10+ years</td>\n",
       "      <td>RENT</td>\n",
       "      <td>12252.0</td>\n",
       "      <td>Not Verified</td>\n",
       "      <td>Fully Paid</td>\n",
       "      <td>small_business</td>\n",
       "    </tr>\n",
       "    <tr>\n",
       "      <th>3</th>\n",
       "      <td>10000</td>\n",
       "      <td>10000.0</td>\n",
       "      <td>36</td>\n",
       "      <td>13.49</td>\n",
       "      <td>339.31</td>\n",
       "      <td>C</td>\n",
       "      <td>C1</td>\n",
       "      <td>10+ years</td>\n",
       "      <td>RENT</td>\n",
       "      <td>49200.0</td>\n",
       "      <td>Source Verified</td>\n",
       "      <td>Fully Paid</td>\n",
       "      <td>other</td>\n",
       "    </tr>\n",
       "    <tr>\n",
       "      <th>5</th>\n",
       "      <td>5000</td>\n",
       "      <td>5000.0</td>\n",
       "      <td>36</td>\n",
       "      <td>7.90</td>\n",
       "      <td>156.46</td>\n",
       "      <td>A</td>\n",
       "      <td>A4</td>\n",
       "      <td>3 years</td>\n",
       "      <td>RENT</td>\n",
       "      <td>36000.0</td>\n",
       "      <td>Source Verified</td>\n",
       "      <td>Fully Paid</td>\n",
       "      <td>wedding</td>\n",
       "    </tr>\n",
       "  </tbody>\n",
       "</table>\n",
       "</div>"
      ],
      "text/plain": [
       "   loan_amnt  funded_amnt_inv  term_in_months  int_rate     EMI grade  \\\n",
       "0       5000           4975.0              36     10.65  162.87     B   \n",
       "1       2500           2500.0              60     15.27   59.83     C   \n",
       "2       2400           2400.0              36     15.96   84.33     C   \n",
       "3      10000          10000.0              36     13.49  339.31     C   \n",
       "5       5000           5000.0              36      7.90  156.46     A   \n",
       "\n",
       "  sub_grade emp_length home_ownership  annual_income verification_status  \\\n",
       "0        B2  10+ years           RENT        24000.0            Verified   \n",
       "1        C4   < 1 year           RENT        30000.0     Source Verified   \n",
       "2        C5  10+ years           RENT        12252.0        Not Verified   \n",
       "3        C1  10+ years           RENT        49200.0     Source Verified   \n",
       "5        A4    3 years           RENT        36000.0     Source Verified   \n",
       "\n",
       "   loan_status         purpose  \n",
       "0   Fully Paid     credit_card  \n",
       "1  Charged Off             car  \n",
       "2   Fully Paid  small_business  \n",
       "3   Fully Paid           other  \n",
       "5   Fully Paid         wedding  "
      ]
     },
     "execution_count": 22,
     "metadata": {},
     "output_type": "execute_result"
    }
   ],
   "source": [
    "# Display Dataframe\n",
    "df_loan_data.head()"
   ]
  },
  {
   "cell_type": "code",
   "execution_count": 23,
   "id": "9c1d89e8",
   "metadata": {},
   "outputs": [
    {
     "name": "stdout",
     "output_type": "stream",
     "text": [
      "<class 'pandas.core.frame.DataFrame'>\n",
      "Int64Index: 38577 entries, 0 to 39716\n",
      "Data columns (total 13 columns):\n",
      " #   Column               Non-Null Count  Dtype  \n",
      "---  ------               --------------  -----  \n",
      " 0   loan_amnt            38577 non-null  int64  \n",
      " 1   funded_amnt_inv      38577 non-null  float64\n",
      " 2   term_in_months       38577 non-null  int32  \n",
      " 3   int_rate             38577 non-null  float64\n",
      " 4   EMI                  38577 non-null  float64\n",
      " 5   grade                38577 non-null  object \n",
      " 6   sub_grade            38577 non-null  object \n",
      " 7   emp_length           37544 non-null  object \n",
      " 8   home_ownership       38577 non-null  object \n",
      " 9   annual_income        38577 non-null  float64\n",
      " 10  verification_status  38577 non-null  object \n",
      " 11  loan_status          38577 non-null  object \n",
      " 12  purpose              38577 non-null  object \n",
      "dtypes: float64(4), int32(1), int64(1), object(7)\n",
      "memory usage: 4.0+ MB\n"
     ]
    }
   ],
   "source": [
    "df_loan_data.info()"
   ]
  },
  {
   "cell_type": "code",
   "execution_count": 24,
   "id": "aa8bc850",
   "metadata": {},
   "outputs": [],
   "source": [
    "# Converting the following columns to numeric \n",
    "df_loan_data.funded_amnt_inv = df_loan_data.funded_amnt_inv.apply(to_numeric)\n",
    "df_loan_data.int_rate = df_loan_data.int_rate.apply(to_numeric)\n",
    "df_loan_data.EMI = df_loan_data.EMI.apply(to_numeric)\n",
    "df_loan_data.annual_income = df_loan_data.annual_income.apply(to_numeric)"
   ]
  },
  {
   "cell_type": "markdown",
   "id": "121ba7e6",
   "metadata": {},
   "source": [
    "**Checking for the outliers and removing them**"
   ]
  },
  {
   "cell_type": "code",
   "execution_count": 25,
   "id": "9a3d59fd",
   "metadata": {},
   "outputs": [],
   "source": [
    "def print_quantile_info(column):\n",
    "    print(\"Annual Income Quantile Difference:\")\n",
    "    print(\"- Percentile 75-80  = {}\".format(column.quantile(0.8) - column.quantile(0.75)))\n",
    "    print(\"- Percentile 80-85  = {}\".format(column.quantile(0.85) - column.quantile(0.8)))\n",
    "    print(\"- Percentile 85-90  = {}\".format(column.quantile(0.9) - column.quantile(0.85)))\n",
    "    print(\"- Percentile 90-95  = {}\".format(column.quantile(0.95) - column.quantile(.9)))\n",
    "    print(\"- Percentile 95-100 = {}\".format(column.quantile(1)   - column.quantile(0.95)))"
   ]
  },
  {
   "cell_type": "code",
   "execution_count": 26,
   "id": "d158a7d0",
   "metadata": {},
   "outputs": [
    {
     "data": {
      "image/png": "[encoded data removed]",
      "text/plain": [
       "<Figure size 432x288 with 1 Axes>"
      ]
     },
     "metadata": {
      "needs_background": "light"
     },
     "output_type": "display_data"
    }
   ],
   "source": [
    "yscale('log')\n",
    "boxplot([df_loan_data.annual_income])\n",
    "# Adding and formatting title\n",
    "title(\"Annual Income Plot \\n\", fontdict={'fontsize': 20, 'fontweight' : 5, 'color' : 'Green'})\n",
    "show()"
   ]
  },
  {
   "cell_type": "code",
   "execution_count": 27,
   "id": "7c14975b",
   "metadata": {},
   "outputs": [
    {
     "name": "stdout",
     "output_type": "stream",
     "text": [
      "Annual Income Quantile Difference:\n",
      "- Percentile 75-80  = 8000.0\n",
      "- Percentile 80-85  = 10000.0\n",
      "- Percentile 85-90  = 15000.0\n",
      "- Percentile 90-95  = 25004.0\n",
      "- Percentile 95-100 = 5859996.0\n"
     ]
    }
   ],
   "source": [
    "print_quantile_info(df_loan_data.annual_income)"
   ]
  },
  {
   "cell_type": "code",
   "execution_count": 28,
   "id": "3cbb2a35",
   "metadata": {},
   "outputs": [],
   "source": [
    "# From above box plot and quantile data, it is clearly seems we have outlier. And their is increase in the values \n",
    "# from 95 percentile. So, we can remove the values above 95 percentile as outliers. \n",
    "df_loan_data = df_loan_data[df_loan_data.annual_income <= df_loan_data.annual_income.quantile(0.95)]"
   ]
  },
  {
   "cell_type": "code",
   "execution_count": 29,
   "id": "da5a7658",
   "metadata": {},
   "outputs": [
    {
     "name": "stdout",
     "output_type": "stream",
     "text": [
      "Annual Income Quantile Difference:\n",
      "- Percentile 75-80  = 6029.5\n",
      "- Percentile 80-85  = 7000.0\n",
      "- Percentile 85-90  = 9000.0\n",
      "- Percentile 90-95  = 17000.0\n",
      "- Percentile 95-100 = 23004.0\n"
     ]
    }
   ],
   "source": [
    "print_quantile_info(df_loan_data.annual_income)"
   ]
  },
  {
   "cell_type": "code",
   "execution_count": 30,
   "id": "0f00b188",
   "metadata": {},
   "outputs": [
    {
     "data": {
      "image/png": "[encoded data removed]",
      "text/plain": [
       "<Figure size 432x288 with 1 Axes>"
      ]
     },
     "metadata": {
      "needs_background": "light"
     },
     "output_type": "display_data"
    }
   ],
   "source": [
    "boxplot([df_loan_data.loan_amnt])\n",
    "# Adding and formatting title\n",
    "title(\"Loan Amount Plot \\n\", fontdict={'fontsize': 20, 'fontweight' : 5, 'color' : 'Green'})\n",
    "show()"
   ]
  },
  {
   "cell_type": "code",
   "execution_count": 31,
   "id": "a617f671",
   "metadata": {},
   "outputs": [
    {
     "name": "stdout",
     "output_type": "stream",
     "text": [
      "Annual Income Quantile Difference:\n",
      "- Percentile 75-80  = 1000.0\n",
      "- Percentile 80-85  = 2000.0\n",
      "- Percentile 85-90  = 2000.0\n",
      "- Percentile 90-95  = 5000.0\n",
      "- Percentile 95-100 = 10000.0\n"
     ]
    }
   ],
   "source": [
    "print_quantile_info(df_loan_data.loan_amnt)"
   ]
  },
  {
   "cell_type": "code",
   "execution_count": 32,
   "id": "652657b3",
   "metadata": {},
   "outputs": [],
   "source": [
    "# From above box plot and quantile data, it is clearly seems we have outlier. And their is increase in the values \n",
    "# from 95 percentile. So, we can remove the values above 95 percentile as outliers. \n",
    "df_loan_data = df_loan_data[df_loan_data.loan_amnt <= df_loan_data.loan_amnt.quantile(0.95)]"
   ]
  },
  {
   "cell_type": "code",
   "execution_count": 33,
   "id": "1945b03e",
   "metadata": {},
   "outputs": [
    {
     "name": "stdout",
     "output_type": "stream",
     "text": [
      "Annual Income Quantile Difference:\n",
      "- Percentile 75-80  = 1000.0\n",
      "- Percentile 80-85  = 1750.0\n",
      "- Percentile 85-90  = 3250.0\n",
      "- Percentile 90-95  = 2750.0\n",
      "- Percentile 95-100 = 2250.0\n"
     ]
    }
   ],
   "source": [
    "print_quantile_info(df_loan_data.loan_amnt)"
   ]
  },
  {
   "cell_type": "code",
   "execution_count": 34,
   "id": "5d482e83",
   "metadata": {},
   "outputs": [
    {
     "data": {
      "image/png": "[encoded data removed]",
      "text/plain": [
       "<Figure size 432x288 with 1 Axes>"
      ]
     },
     "metadata": {
      "needs_background": "light"
     },
     "output_type": "display_data"
    }
   ],
   "source": [
    "boxplot([df_loan_data.EMI])\n",
    "# Adding and formatting title\n",
    "title(\"Installment Plot \\n\", fontdict={'fontsize': 20, 'fontweight' : 5, 'color' : 'Green'})\n",
    "show()"
   ]
  },
  {
   "cell_type": "code",
   "execution_count": 35,
   "id": "2cc73ced",
   "metadata": {},
   "outputs": [
    {
     "name": "stdout",
     "output_type": "stream",
     "text": [
      "Annual Income Quantile Difference:\n",
      "- Percentile 75-80  = 43.244000000000085\n",
      "- Percentile 80-85  = 51.36999999999989\n",
      "- Percentile 85-90  = 52.77400000000034\n",
      "- Percentile 90-95  = 114.46199999999965\n",
      "- Percentile 95-100 = 290.6700000000001\n"
     ]
    }
   ],
   "source": [
    "print_quantile_info(df_loan_data.EMI)"
   ]
  },
  {
   "cell_type": "code",
   "execution_count": 36,
   "id": "38a3c357",
   "metadata": {},
   "outputs": [],
   "source": [
    "# From above box plot and quantile data, it is clearly seems we have outlier. And their is increase in the values \n",
    "# from 95 percentile. So, we can remove the values above 95 percentile as outliers. \n",
    "df_loan_data = df_loan_data[df_loan_data.EMI <= df_loan_data.EMI.quantile(0.95)]"
   ]
  },
  {
   "cell_type": "code",
   "execution_count": 37,
   "id": "653b6cc8",
   "metadata": {},
   "outputs": [
    {
     "name": "stdout",
     "output_type": "stream",
     "text": [
      "Annual Income Quantile Difference:\n",
      "- Percentile 75-80  = 29.564000000000192\n",
      "- Percentile 80-85  = 45.303999999999746\n",
      "- Percentile 85-90  = 46.63200000000006\n",
      "- Percentile 90-95  = 54.0499999999999\n",
      "- Percentile 95-100 = 109.04000000000008\n"
     ]
    }
   ],
   "source": [
    "print_quantile_info(df_loan_data.EMI)"
   ]
  },
  {
   "cell_type": "code",
   "execution_count": 38,
   "id": "d006a7e3",
   "metadata": {},
   "outputs": [
    {
     "data": {
      "text/html": [
       "<div>\n",
       "<style scoped>\n",
       "    .dataframe tbody tr th:only-of-type {\n",
       "        vertical-align: middle;\n",
       "    }\n",
       "\n",
       "    .dataframe tbody tr th {\n",
       "        vertical-align: top;\n",
       "    }\n",
       "\n",
       "    .dataframe thead th {\n",
       "        text-align: right;\n",
       "    }\n",
       "</style>\n",
       "<table border=\"1\" class=\"dataframe\">\n",
       "  <thead>\n",
       "    <tr style=\"text-align: right;\">\n",
       "      <th></th>\n",
       "      <th>loan_amnt</th>\n",
       "      <th>funded_amnt_inv</th>\n",
       "      <th>term_in_months</th>\n",
       "      <th>int_rate</th>\n",
       "      <th>EMI</th>\n",
       "      <th>annual_income</th>\n",
       "    </tr>\n",
       "  </thead>\n",
       "  <tbody>\n",
       "    <tr>\n",
       "      <th>count</th>\n",
       "      <td>33769.000000</td>\n",
       "      <td>33769.000000</td>\n",
       "      <td>33769.000000</td>\n",
       "      <td>33769.000000</td>\n",
       "      <td>33769.000000</td>\n",
       "      <td>33769.000000</td>\n",
       "    </tr>\n",
       "    <tr>\n",
       "      <th>mean</th>\n",
       "      <td>9375.152507</td>\n",
       "      <td>8715.974316</td>\n",
       "      <td>41.710563</td>\n",
       "      <td>11.681766</td>\n",
       "      <td>272.209137</td>\n",
       "      <td>58642.687097</td>\n",
       "    </tr>\n",
       "    <tr>\n",
       "      <th>std</th>\n",
       "      <td>5478.756536</td>\n",
       "      <td>5236.952488</td>\n",
       "      <td>10.219886</td>\n",
       "      <td>3.592572</td>\n",
       "      <td>146.853740</td>\n",
       "      <td>26837.159581</td>\n",
       "    </tr>\n",
       "    <tr>\n",
       "      <th>min</th>\n",
       "      <td>500.000000</td>\n",
       "      <td>0.000000</td>\n",
       "      <td>36.000000</td>\n",
       "      <td>5.420000</td>\n",
       "      <td>15.690000</td>\n",
       "      <td>4000.000000</td>\n",
       "    </tr>\n",
       "    <tr>\n",
       "      <th>25%</th>\n",
       "      <td>5000.000000</td>\n",
       "      <td>4800.000000</td>\n",
       "      <td>36.000000</td>\n",
       "      <td>8.700000</td>\n",
       "      <td>156.460000</td>\n",
       "      <td>39000.000000</td>\n",
       "    </tr>\n",
       "    <tr>\n",
       "      <th>50%</th>\n",
       "      <td>8275.000000</td>\n",
       "      <td>7963.395806</td>\n",
       "      <td>36.000000</td>\n",
       "      <td>11.490000</td>\n",
       "      <td>250.530000</td>\n",
       "      <td>54000.000000</td>\n",
       "    </tr>\n",
       "    <tr>\n",
       "      <th>75%</th>\n",
       "      <td>12500.000000</td>\n",
       "      <td>12000.000000</td>\n",
       "      <td>36.000000</td>\n",
       "      <td>14.170000</td>\n",
       "      <td>370.090000</td>\n",
       "      <td>75000.000000</td>\n",
       "    </tr>\n",
       "    <tr>\n",
       "      <th>max</th>\n",
       "      <td>25000.000000</td>\n",
       "      <td>25000.000000</td>\n",
       "      <td>60.000000</td>\n",
       "      <td>24.400000</td>\n",
       "      <td>654.680000</td>\n",
       "      <td>140004.000000</td>\n",
       "    </tr>\n",
       "  </tbody>\n",
       "</table>\n",
       "</div>"
      ],
      "text/plain": [
       "          loan_amnt  funded_amnt_inv  term_in_months      int_rate  \\\n",
       "count  33769.000000     33769.000000    33769.000000  33769.000000   \n",
       "mean    9375.152507      8715.974316       41.710563     11.681766   \n",
       "std     5478.756536      5236.952488       10.219886      3.592572   \n",
       "min      500.000000         0.000000       36.000000      5.420000   \n",
       "25%     5000.000000      4800.000000       36.000000      8.700000   \n",
       "50%     8275.000000      7963.395806       36.000000     11.490000   \n",
       "75%    12500.000000     12000.000000       36.000000     14.170000   \n",
       "max    25000.000000     25000.000000       60.000000     24.400000   \n",
       "\n",
       "                EMI  annual_income  \n",
       "count  33769.000000   33769.000000  \n",
       "mean     272.209137   58642.687097  \n",
       "std      146.853740   26837.159581  \n",
       "min       15.690000    4000.000000  \n",
       "25%      156.460000   39000.000000  \n",
       "50%      250.530000   54000.000000  \n",
       "75%      370.090000   75000.000000  \n",
       "max      654.680000  140004.000000  "
      ]
     },
     "execution_count": 38,
     "metadata": {},
     "output_type": "execute_result"
    }
   ],
   "source": [
    "df_loan_data.describe()"
   ]
  },
  {
   "cell_type": "code",
   "execution_count": 39,
   "id": "5f8713c1",
   "metadata": {},
   "outputs": [
    {
     "data": {
      "text/html": [
       "<div>\n",
       "<style scoped>\n",
       "    .dataframe tbody tr th:only-of-type {\n",
       "        vertical-align: middle;\n",
       "    }\n",
       "\n",
       "    .dataframe tbody tr th {\n",
       "        vertical-align: top;\n",
       "    }\n",
       "\n",
       "    .dataframe thead th {\n",
       "        text-align: right;\n",
       "    }\n",
       "</style>\n",
       "<table border=\"1\" class=\"dataframe\">\n",
       "  <thead>\n",
       "    <tr style=\"text-align: right;\">\n",
       "      <th></th>\n",
       "      <th>loan_amnt</th>\n",
       "      <th>funded_amnt_inv</th>\n",
       "      <th>term_in_months</th>\n",
       "      <th>int_rate</th>\n",
       "      <th>EMI</th>\n",
       "      <th>grade</th>\n",
       "      <th>sub_grade</th>\n",
       "      <th>emp_length</th>\n",
       "      <th>home_ownership</th>\n",
       "      <th>annual_income</th>\n",
       "      <th>verification_status</th>\n",
       "      <th>loan_status</th>\n",
       "      <th>purpose</th>\n",
       "    </tr>\n",
       "  </thead>\n",
       "  <tbody>\n",
       "    <tr>\n",
       "      <th>0</th>\n",
       "      <td>5000</td>\n",
       "      <td>4975.0</td>\n",
       "      <td>36</td>\n",
       "      <td>10.65</td>\n",
       "      <td>162.87</td>\n",
       "      <td>B</td>\n",
       "      <td>B2</td>\n",
       "      <td>10+ years</td>\n",
       "      <td>RENT</td>\n",
       "      <td>24000.0</td>\n",
       "      <td>Verified</td>\n",
       "      <td>Fully Paid</td>\n",
       "      <td>credit_card</td>\n",
       "    </tr>\n",
       "    <tr>\n",
       "      <th>1</th>\n",
       "      <td>2500</td>\n",
       "      <td>2500.0</td>\n",
       "      <td>60</td>\n",
       "      <td>15.27</td>\n",
       "      <td>59.83</td>\n",
       "      <td>C</td>\n",
       "      <td>C4</td>\n",
       "      <td>&lt; 1 year</td>\n",
       "      <td>RENT</td>\n",
       "      <td>30000.0</td>\n",
       "      <td>Source Verified</td>\n",
       "      <td>Charged Off</td>\n",
       "      <td>car</td>\n",
       "    </tr>\n",
       "    <tr>\n",
       "      <th>2</th>\n",
       "      <td>2400</td>\n",
       "      <td>2400.0</td>\n",
       "      <td>36</td>\n",
       "      <td>15.96</td>\n",
       "      <td>84.33</td>\n",
       "      <td>C</td>\n",
       "      <td>C5</td>\n",
       "      <td>10+ years</td>\n",
       "      <td>RENT</td>\n",
       "      <td>12252.0</td>\n",
       "      <td>Not Verified</td>\n",
       "      <td>Fully Paid</td>\n",
       "      <td>small_business</td>\n",
       "    </tr>\n",
       "    <tr>\n",
       "      <th>3</th>\n",
       "      <td>10000</td>\n",
       "      <td>10000.0</td>\n",
       "      <td>36</td>\n",
       "      <td>13.49</td>\n",
       "      <td>339.31</td>\n",
       "      <td>C</td>\n",
       "      <td>C1</td>\n",
       "      <td>10+ years</td>\n",
       "      <td>RENT</td>\n",
       "      <td>49200.0</td>\n",
       "      <td>Source Verified</td>\n",
       "      <td>Fully Paid</td>\n",
       "      <td>other</td>\n",
       "    </tr>\n",
       "    <tr>\n",
       "      <th>5</th>\n",
       "      <td>5000</td>\n",
       "      <td>5000.0</td>\n",
       "      <td>36</td>\n",
       "      <td>7.90</td>\n",
       "      <td>156.46</td>\n",
       "      <td>A</td>\n",
       "      <td>A4</td>\n",
       "      <td>3 years</td>\n",
       "      <td>RENT</td>\n",
       "      <td>36000.0</td>\n",
       "      <td>Source Verified</td>\n",
       "      <td>Fully Paid</td>\n",
       "      <td>wedding</td>\n",
       "    </tr>\n",
       "    <tr>\n",
       "      <th>6</th>\n",
       "      <td>7000</td>\n",
       "      <td>7000.0</td>\n",
       "      <td>60</td>\n",
       "      <td>15.96</td>\n",
       "      <td>170.08</td>\n",
       "      <td>C</td>\n",
       "      <td>C5</td>\n",
       "      <td>8 years</td>\n",
       "      <td>RENT</td>\n",
       "      <td>47004.0</td>\n",
       "      <td>Not Verified</td>\n",
       "      <td>Fully Paid</td>\n",
       "      <td>debt_consolidation</td>\n",
       "    </tr>\n",
       "    <tr>\n",
       "      <th>7</th>\n",
       "      <td>3000</td>\n",
       "      <td>3000.0</td>\n",
       "      <td>36</td>\n",
       "      <td>18.64</td>\n",
       "      <td>109.43</td>\n",
       "      <td>E</td>\n",
       "      <td>E1</td>\n",
       "      <td>9 years</td>\n",
       "      <td>RENT</td>\n",
       "      <td>48000.0</td>\n",
       "      <td>Source Verified</td>\n",
       "      <td>Fully Paid</td>\n",
       "      <td>car</td>\n",
       "    </tr>\n",
       "    <tr>\n",
       "      <th>8</th>\n",
       "      <td>5600</td>\n",
       "      <td>5600.0</td>\n",
       "      <td>60</td>\n",
       "      <td>21.28</td>\n",
       "      <td>152.39</td>\n",
       "      <td>F</td>\n",
       "      <td>F2</td>\n",
       "      <td>4 years</td>\n",
       "      <td>OWN</td>\n",
       "      <td>40000.0</td>\n",
       "      <td>Source Verified</td>\n",
       "      <td>Charged Off</td>\n",
       "      <td>small_business</td>\n",
       "    </tr>\n",
       "    <tr>\n",
       "      <th>9</th>\n",
       "      <td>5375</td>\n",
       "      <td>5350.0</td>\n",
       "      <td>60</td>\n",
       "      <td>12.69</td>\n",
       "      <td>121.45</td>\n",
       "      <td>B</td>\n",
       "      <td>B5</td>\n",
       "      <td>&lt; 1 year</td>\n",
       "      <td>RENT</td>\n",
       "      <td>15000.0</td>\n",
       "      <td>Verified</td>\n",
       "      <td>Charged Off</td>\n",
       "      <td>other</td>\n",
       "    </tr>\n",
       "    <tr>\n",
       "      <th>10</th>\n",
       "      <td>6500</td>\n",
       "      <td>6500.0</td>\n",
       "      <td>60</td>\n",
       "      <td>14.65</td>\n",
       "      <td>153.45</td>\n",
       "      <td>C</td>\n",
       "      <td>C3</td>\n",
       "      <td>5 years</td>\n",
       "      <td>OWN</td>\n",
       "      <td>72000.0</td>\n",
       "      <td>Not Verified</td>\n",
       "      <td>Fully Paid</td>\n",
       "      <td>debt_consolidation</td>\n",
       "    </tr>\n",
       "  </tbody>\n",
       "</table>\n",
       "</div>"
      ],
      "text/plain": [
       "    loan_amnt  funded_amnt_inv  term_in_months  int_rate     EMI grade  \\\n",
       "0        5000           4975.0              36     10.65  162.87     B   \n",
       "1        2500           2500.0              60     15.27   59.83     C   \n",
       "2        2400           2400.0              36     15.96   84.33     C   \n",
       "3       10000          10000.0              36     13.49  339.31     C   \n",
       "5        5000           5000.0              36      7.90  156.46     A   \n",
       "6        7000           7000.0              60     15.96  170.08     C   \n",
       "7        3000           3000.0              36     18.64  109.43     E   \n",
       "8        5600           5600.0              60     21.28  152.39     F   \n",
       "9        5375           5350.0              60     12.69  121.45     B   \n",
       "10       6500           6500.0              60     14.65  153.45     C   \n",
       "\n",
       "   sub_grade emp_length home_ownership  annual_income verification_status  \\\n",
       "0         B2  10+ years           RENT        24000.0            Verified   \n",
       "1         C4   < 1 year           RENT        30000.0     Source Verified   \n",
       "2         C5  10+ years           RENT        12252.0        Not Verified   \n",
       "3         C1  10+ years           RENT        49200.0     Source Verified   \n",
       "5         A4    3 years           RENT        36000.0     Source Verified   \n",
       "6         C5    8 years           RENT        47004.0        Not Verified   \n",
       "7         E1    9 years           RENT        48000.0     Source Verified   \n",
       "8         F2    4 years            OWN        40000.0     Source Verified   \n",
       "9         B5   < 1 year           RENT        15000.0            Verified   \n",
       "10        C3    5 years            OWN        72000.0        Not Verified   \n",
       "\n",
       "    loan_status             purpose  \n",
       "0    Fully Paid         credit_card  \n",
       "1   Charged Off                 car  \n",
       "2    Fully Paid      small_business  \n",
       "3    Fully Paid               other  \n",
       "5    Fully Paid             wedding  \n",
       "6    Fully Paid  debt_consolidation  \n",
       "7    Fully Paid                 car  \n",
       "8   Charged Off      small_business  \n",
       "9   Charged Off               other  \n",
       "10   Fully Paid  debt_consolidation  "
      ]
     },
     "execution_count": 39,
     "metadata": {},
     "output_type": "execute_result"
    }
   ],
   "source": [
    "df_cleaned_loan_data = df_loan_data\n",
    "df_cleaned_loan_data.head(10)"
   ]
  },
  {
   "cell_type": "markdown",
   "id": "55e75b01",
   "metadata": {},
   "source": [
    "# Data Analysis:\n",
    "## Univariate Analysis"
   ]
  },
  {
   "cell_type": "code",
   "execution_count": 40,
   "id": "a8af62f8",
   "metadata": {},
   "outputs": [],
   "source": [
    "def univ_count_Plot(axis_col, hue_column, x_label, y_label, plot_title, rotation_angle=0, dataframe = df_cleaned_loan_data):\n",
    "    figure(figsize = (15, 6))\n",
    "    sb_plt.countplot(x = axis_col, hue = hue_column, data = df_cleaned_loan_data, palette = \"Set2\")\n",
    "    ylabel(y_label, fontdict={'fontsize': 12, 'fontweight' : 5, 'color' : 'Brown'})\n",
    "    xlabel(x_label, fontdict={'fontsize': 12, 'fontweight' : 5, 'color' : 'Brown'})\n",
    "    title(plot_title, fontdict={'fontsize': 20, 'fontweight' : 5, 'color' : 'Green'})\n",
    "    xticks(rotation = rotation_angle)\n",
    "    show()\n",
    "    return"
   ]
  },
  {
   "cell_type": "code",
   "execution_count": 41,
   "id": "91f3c155",
   "metadata": {},
   "outputs": [
    {
     "data": {
      "image/png": "[encoded data removed]",
      "text/plain": [
       "<Figure size 432x288 with 1 Axes>"
      ]
     },
     "metadata": {
      "needs_background": "light"
     },
     "output_type": "display_data"
    }
   ],
   "source": [
    "sb_plt.countplot(y ='loan_status', data = df_cleaned_loan_data)\n",
    "xlabel(\"Loan Count\", fontdict={'fontsize': 12, 'fontweight' : 5, 'color' : 'Brown'})\n",
    "ylabel(\"Loan Status\", fontdict={'fontsize': 12, 'fontweight' : 5, 'color' : 'Brown'})\n",
    "show()"
   ]
  },
  {
   "cell_type": "markdown",
   "id": "b404de69",
   "metadata": {},
   "source": [
    "**Observation:**\n",
    "- Total ~5000 loans those are charge off.\n",
    "- Total >30000 loans those are fully paid."
   ]
  },
  {
   "cell_type": "markdown",
   "id": "725fe22d",
   "metadata": {},
   "source": [
    "**Categorical**"
   ]
  },
  {
   "cell_type": "code",
   "execution_count": 42,
   "id": "3ccc7b9b",
   "metadata": {},
   "outputs": [
    {
     "data": {
      "image/png": "[encoded data removed]",
      "text/plain": [
       "<Figure size 1080x432 with 1 Axes>"
      ]
     },
     "metadata": {
      "needs_background": "light"
     },
     "output_type": "display_data"
    }
   ],
   "source": [
    "univ_count_Plot('loan_status', 'home_ownership', \"Loan Status\", \"Loan Count\", \"Home Ownership vs Loan Status\\n\")"
   ]
  },
  {
   "cell_type": "markdown",
   "id": "37bccacb",
   "metadata": {},
   "source": [
    "**Observation:**\n",
    "- Maximum number of loans are charged off for the those who are living on rent."
   ]
  },
  {
   "cell_type": "markdown",
   "id": "d895b749",
   "metadata": {},
   "source": [
    "**Loan Pupose vs Loan Status**"
   ]
  },
  {
   "cell_type": "code",
   "execution_count": 43,
   "id": "3115b4e0",
   "metadata": {},
   "outputs": [
    {
     "data": {
      "image/png": "[encoded data removed]",
      "text/plain": [
       "<Figure size 1080x432 with 1 Axes>"
      ]
     },
     "metadata": {
      "needs_background": "light"
     },
     "output_type": "display_data"
    }
   ],
   "source": [
    "univ_count_Plot('loan_status', 'purpose', \"Loan Status\", \"Loan Count\", \"Loan Purpose vs Loan Status\\n\")    "
   ]
  },
  {
   "cell_type": "markdown",
   "id": "6aed18ac",
   "metadata": {},
   "source": [
    "**Observation:**\n",
    "\n",
    "Maximum number of loans are charged off for the loan taken for debt_consolidation."
   ]
  },
  {
   "cell_type": "code",
   "execution_count": 44,
   "id": "2e05a0a8",
   "metadata": {
    "scrolled": true
   },
   "outputs": [
    {
     "data": {
      "image/png": "[encoded data removed]",
      "text/plain": [
       "<Figure size 1080x432 with 1 Axes>"
      ]
     },
     "metadata": {
      "needs_background": "light"
     },
     "output_type": "display_data"
    }
   ],
   "source": [
    "univ_count_Plot('term_in_months' ,'loan_status', \"Months\", \"Loan Count\", \"Loan Term vs Loan Status\\n\")"
   ]
  },
  {
   "cell_type": "markdown",
   "id": "7d38b3a4",
   "metadata": {},
   "source": [
    "**Observation:**\n",
    "\n",
    "Maximum number of loans are charged off for the loans applied for 36 months of Loan Term."
   ]
  },
  {
   "cell_type": "code",
   "execution_count": 45,
   "id": "25a8d58d",
   "metadata": {
    "scrolled": true
   },
   "outputs": [
    {
     "data": {
      "image/png": "[encoded data removed]",
      "text/plain": [
       "<Figure size 1080x432 with 1 Axes>"
      ]
     },
     "metadata": {
      "needs_background": "light"
     },
     "output_type": "display_data"
    }
   ],
   "source": [
    "univ_count_Plot('loan_status','grade' , \"Loan Status\", \"Loan Count\", \"Grade vs Loan Status\\n\")"
   ]
  },
  {
   "cell_type": "markdown",
   "id": "c0a006e7",
   "metadata": {},
   "source": [
    "**Observation:**\n",
    "\n",
    "Maximum number of loans are charged off for the loans belong to Grade B and C."
   ]
  },
  {
   "cell_type": "code",
   "execution_count": 46,
   "id": "16c45d42",
   "metadata": {
    "scrolled": true
   },
   "outputs": [
    {
     "data": {
      "image/png": "[encoded data removed]",
      "text/plain": [
       "<Figure size 1080x432 with 1 Axes>"
      ]
     },
     "metadata": {
      "needs_background": "light"
     },
     "output_type": "display_data"
    }
   ],
   "source": [
    "univ_count_Plot('sub_grade', 'loan_status', \"Sub Grade\", \"Loan Count\", \"Sub-Grade vs Loan Status\\n\",90)"
   ]
  },
  {
   "cell_type": "code",
   "execution_count": 47,
   "id": "28fdaab9",
   "metadata": {},
   "outputs": [
    {
     "data": {
      "image/png": "[encoded data removed]",
      "text/plain": [
       "<Figure size 1080x432 with 1 Axes>"
      ]
     },
     "metadata": {
      "needs_background": "light"
     },
     "output_type": "display_data"
    }
   ],
   "source": [
    "univ_count_Plot('emp_length', 'loan_status', \"Employee Experience\", \"Loan Count\", \"Employee Experience vs Loan Status\\n\",90)"
   ]
  },
  {
   "cell_type": "markdown",
   "id": "03a367e7",
   "metadata": {},
   "source": [
    "**Observation:**\n",
    "\n",
    "Maximum number of loans are charged off for the loans belong to the employee's having 10+ yrs of experience."
   ]
  },
  {
   "cell_type": "code",
   "execution_count": 50,
   "id": "035fffdb",
   "metadata": {},
   "outputs": [],
   "source": [
    "df_new_cat = df_cleaned_loan_data"
   ]
  },
  {
   "cell_type": "code",
   "execution_count": 51,
   "id": "dcfaf912",
   "metadata": {},
   "outputs": [],
   "source": [
    "#Making bins for Loan Amount\n",
    "bins = [0, 5000, 10000, 15000, 20000, 25000,30000,40000]\n",
    "slot = ['0-5000', '5000-10000', '10000-15000', '15000-20000', '20000-25000','25000-30000' , '30000 and above']\n",
    "df_new_cat['loan_amnt_range'] = cut(df_cleaned_loan_data['loan_amnt'], bins, labels=slot)\n"
   ]
  },
  {
   "cell_type": "code",
   "execution_count": 52,
   "id": "a22514a4",
   "metadata": {},
   "outputs": [],
   "source": [
    "#Making bins for intrest\n",
    "bins = [0, 3, 6, 9, 12, 15, 18, 21, 24]\n",
    "slot = ['0-3', '3-6', '6-9', '9-12', '12-15','15-18' , '18-21' , '21 and above']\n",
    "df_new_cat['int_rate_range'] = cut(df_cleaned_loan_data['int_rate'], bins, labels=slot)"
   ]
  },
  {
   "cell_type": "code",
   "execution_count": 53,
   "id": "24662879",
   "metadata": {},
   "outputs": [
    {
     "data": {
      "text/plain": [
       "(array([0, 1, 2, 3, 4, 5, 6]),\n",
       " [Text(0, 0, '0-5000'),\n",
       "  Text(1, 0, '5000-10000'),\n",
       "  Text(2, 0, '10000-15000'),\n",
       "  Text(3, 0, '15000-20000'),\n",
       "  Text(4, 0, '20000-25000'),\n",
       "  Text(5, 0, '25000-30000'),\n",
       "  Text(6, 0, '30000 and above')])"
      ]
     },
     "execution_count": 53,
     "metadata": {},
     "output_type": "execute_result"
    },
    {
     "data": {
      "image/png": "[encoded data removed]",
      "text/plain": [
       "<Figure size 456.375x360 with 1 Axes>"
      ]
     },
     "metadata": {
      "needs_background": "light"
     },
     "output_type": "display_data"
    }
   ],
   "source": [
    "sb_plt.catplot(x = 'loan_amnt_range',y = 'term_in_months', data = df_new_cat,hue = 'loan_status', kind = 'bar',palette = \"Set2\")\n",
    "ylabel('term_in_months', fontdict={'fontsize': 12, 'fontweight' : 5, 'color' : 'Brown'})\n",
    "xlabel('loan_amnt_range', fontdict={'fontsize': 12, 'fontweight' : 5, 'color' : 'Brown'})\n",
    "xticks(rotation = 90)"
   ]
  },
  {
   "cell_type": "code",
   "execution_count": 54,
   "id": "beb40244",
   "metadata": {},
   "outputs": [
    {
     "data": {
      "text/plain": [
       "(array([0, 1, 2, 3, 4, 5, 6]),\n",
       " [Text(0, 0, '0-5000'),\n",
       "  Text(1, 0, '5000-10000'),\n",
       "  Text(2, 0, '10000-15000'),\n",
       "  Text(3, 0, '15000-20000'),\n",
       "  Text(4, 0, '20000-25000'),\n",
       "  Text(5, 0, '25000-30000'),\n",
       "  Text(6, 0, '30000 and above')])"
      ]
     },
     "execution_count": 54,
     "metadata": {},
     "output_type": "execute_result"
    },
    {
     "data": {
      "image/png": "[encoded data removed]",
      "text/plain": [
       "<Figure size 456.375x360 with 1 Axes>"
      ]
     },
     "metadata": {
      "needs_background": "light"
     },
     "output_type": "display_data"
    }
   ],
   "source": [
    "sb_plt.catplot(x = 'loan_amnt_range',y = 'EMI', data = df_new_cat,hue = 'loan_status', kind = 'bar',palette = \"Set2\")\n",
    "ylabel('Installments', fontdict={'fontsize': 12, 'fontweight' : 5, 'color' : 'Brown'})\n",
    "xlabel('loan_amnt_range', fontdict={'fontsize': 12, 'fontweight' : 5, 'color' : 'Brown'})\n",
    "xticks(rotation = 90)"
   ]
  },
  {
   "cell_type": "code",
   "execution_count": 59,
   "id": "264c6711",
   "metadata": {},
   "outputs": [
    {
     "data": {
      "text/html": [
       "<div>\n",
       "<style scoped>\n",
       "    .dataframe tbody tr th:only-of-type {\n",
       "        vertical-align: middle;\n",
       "    }\n",
       "\n",
       "    .dataframe tbody tr th {\n",
       "        vertical-align: top;\n",
       "    }\n",
       "\n",
       "    .dataframe thead th {\n",
       "        text-align: right;\n",
       "    }\n",
       "</style>\n",
       "<table border=\"1\" class=\"dataframe\">\n",
       "  <thead>\n",
       "    <tr style=\"text-align: right;\">\n",
       "      <th></th>\n",
       "      <th>loan_amnt</th>\n",
       "      <th>funded_amnt_inv</th>\n",
       "      <th>term_in_months</th>\n",
       "      <th>int_rate</th>\n",
       "      <th>EMI</th>\n",
       "      <th>annual_income</th>\n",
       "    </tr>\n",
       "  </thead>\n",
       "  <tbody>\n",
       "    <tr>\n",
       "      <th>loan_amnt</th>\n",
       "      <td>1.000000</td>\n",
       "      <td>0.927671</td>\n",
       "      <td>0.393601</td>\n",
       "      <td>0.220395</td>\n",
       "      <td>0.914290</td>\n",
       "      <td>0.318861</td>\n",
       "    </tr>\n",
       "    <tr>\n",
       "      <th>funded_amnt_inv</th>\n",
       "      <td>0.927671</td>\n",
       "      <td>1.000000</td>\n",
       "      <td>0.399440</td>\n",
       "      <td>0.229189</td>\n",
       "      <td>0.887720</td>\n",
       "      <td>0.298565</td>\n",
       "    </tr>\n",
       "    <tr>\n",
       "      <th>term_in_months</th>\n",
       "      <td>0.393601</td>\n",
       "      <td>0.399440</td>\n",
       "      <td>1.000000</td>\n",
       "      <td>0.428743</td>\n",
       "      <td>0.109087</td>\n",
       "      <td>0.074749</td>\n",
       "    </tr>\n",
       "    <tr>\n",
       "      <th>int_rate</th>\n",
       "      <td>0.220395</td>\n",
       "      <td>0.229189</td>\n",
       "      <td>0.428743</td>\n",
       "      <td>1.000000</td>\n",
       "      <td>0.201974</td>\n",
       "      <td>-0.000636</td>\n",
       "    </tr>\n",
       "    <tr>\n",
       "      <th>EMI</th>\n",
       "      <td>0.914290</td>\n",
       "      <td>0.887720</td>\n",
       "      <td>0.109087</td>\n",
       "      <td>0.201974</td>\n",
       "      <td>1.000000</td>\n",
       "      <td>0.309240</td>\n",
       "    </tr>\n",
       "    <tr>\n",
       "      <th>annual_income</th>\n",
       "      <td>0.318861</td>\n",
       "      <td>0.298565</td>\n",
       "      <td>0.074749</td>\n",
       "      <td>-0.000636</td>\n",
       "      <td>0.309240</td>\n",
       "      <td>1.000000</td>\n",
       "    </tr>\n",
       "  </tbody>\n",
       "</table>\n",
       "</div>"
      ],
      "text/plain": [
       "                 loan_amnt  funded_amnt_inv  term_in_months  int_rate  \\\n",
       "loan_amnt         1.000000         0.927671        0.393601  0.220395   \n",
       "funded_amnt_inv   0.927671         1.000000        0.399440  0.229189   \n",
       "term_in_months    0.393601         0.399440        1.000000  0.428743   \n",
       "int_rate          0.220395         0.229189        0.428743  1.000000   \n",
       "EMI               0.914290         0.887720        0.109087  0.201974   \n",
       "annual_income     0.318861         0.298565        0.074749 -0.000636   \n",
       "\n",
       "                      EMI  annual_income  \n",
       "loan_amnt        0.914290       0.318861  \n",
       "funded_amnt_inv  0.887720       0.298565  \n",
       "term_in_months   0.109087       0.074749  \n",
       "int_rate         0.201974      -0.000636  \n",
       "EMI              1.000000       0.309240  \n",
       "annual_income    0.309240       1.000000  "
      ]
     },
     "execution_count": 59,
     "metadata": {},
     "output_type": "execute_result"
    }
   ],
   "source": [
    "df_cleaned_loan_data.corr()\n"
   ]
  },
  {
   "cell_type": "code",
   "execution_count": 61,
   "id": "70b55ac8",
   "metadata": {},
   "outputs": [
    {
     "data": {
      "image/png": "[encoded data removed]",
      "text/plain": [
       "<Figure size 432x288 with 2 Axes>"
      ]
     },
     "metadata": {
      "needs_background": "light"
     },
     "output_type": "display_data"
    }
   ],
   "source": [
    "# plotting correlation heatmap\n",
    "dataplot = sb_plt.heatmap(df_cleaned_loan_data.corr(), cmap=\"YlGnBu\", annot=True)"
   ]
  },
  {
   "cell_type": "code",
   "execution_count": null,
   "id": "d60467eb",
   "metadata": {},
   "outputs": [],
   "source": []
  },
  {
   "cell_type": "code",
   "execution_count": null,
   "id": "1dfc0305",
   "metadata": {},
   "outputs": [],
   "source": []
  }
 ],
 "metadata": {
  "kernelspec": {
   "display_name": "Python 3 (ipykernel)",
   "language": "python",
   "name": "python3"
  },
  "language_info": {
   "codemirror_mode": {
    "name": "ipython",
    "version": 3
   },
   "file_extension": ".py",
   "mimetype": "text/x-python",
   "name": "python",
   "nbconvert_exporter": "python",
   "pygments_lexer": "ipython3",
   "version": "3.9.7"
  }
 },
 "nbformat": 4,
 "nbformat_minor": 5
}
